{
 "cells": [
  {
   "cell_type": "code",
   "execution_count": 11,
   "id": "d680c8c5",
   "metadata": {},
   "outputs": [],
   "source": [
    "import numpy as np\n",
    "from faker import Faker\n",
    "import pandas as pd\n",
    "\n"
   ]
  },
  {
   "cell_type": "code",
   "execution_count": null,
   "id": "5d442986",
   "metadata": {},
   "outputs": [],
   "source": [
    "fake = Faker()\n",
    "fake.add_provider\n"
   ]
  },
  {
   "cell_type": "code",
   "execution_count": 7,
   "id": "658b5fe8",
   "metadata": {},
   "outputs": [],
   "source": [
    "sales_data = [(fake.word(), np.random.randint(10, 500), fake.date_this_year(), np.random.randint(18, 70)) for _ in range(500)]\n",
    "sales_df = pd.DataFrame(sales_data, columns=['Product', 'Sale Amount', 'Date', 'Customer Age'])\n"
   ]
  },
  {
   "cell_type": "code",
   "execution_count": 8,
   "id": "59644cef",
   "metadata": {},
   "outputs": [
    {
     "name": "stdout",
     "output_type": "stream",
     "text": [
      "     Product  Sale Amount        Date  Customer Age\n",
      "0      reach           75  2025-04-23            23\n",
      "1         me          134  2025-02-08            67\n",
      "2  executive          448  2025-04-08            32\n",
      "3  education          163  2025-05-05            33\n",
      "4     method          419  2025-05-05            34\n"
     ]
    }
   ],
   "source": [
    "print(sales_df.head())"
   ]
  },
  {
   "cell_type": "code",
   "execution_count": 14,
   "id": "7398060c",
   "metadata": {},
   "outputs": [],
   "source": [
    "df1 = pd.DataFrame({\n",
    "    'Column1': [1, 2, 3, 4, 5],\n",
    "    'Column2': ['A', 'B', 'C', 'D', 'E'],\n",
    "    'Column3': [True, False, True, False, True]\n",
    "})\n",
    "\n",
    "# export to scv\n",
    "\n",
    "df1.to_csv(\"my_dataframe.csv\", index=False)"
   ]
  },
  {
   "cell_type": "code",
   "execution_count": 15,
   "id": "506e389e",
   "metadata": {},
   "outputs": [],
   "source": [
    "#export to json\n",
    "df1.to_json(\"my_daraframe.json\")"
   ]
  }
 ],
 "metadata": {
  "kernelspec": {
   "display_name": ".venv",
   "language": "python",
   "name": "python3"
  },
  "language_info": {
   "codemirror_mode": {
    "name": "ipython",
    "version": 3
   },
   "file_extension": ".py",
   "mimetype": "text/x-python",
   "name": "python",
   "nbconvert_exporter": "python",
   "pygments_lexer": "ipython3",
   "version": "3.11.9"
  }
 },
 "nbformat": 4,
 "nbformat_minor": 5
}
