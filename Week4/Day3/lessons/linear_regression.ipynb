{
 "cells": [
  {
   "cell_type": "code",
   "execution_count": 1,
   "id": "d7a2229e",
   "metadata": {},
   "outputs": [
    {
     "name": "stdout",
     "output_type": "stream",
     "text": [
      "Slope: 1.9\n",
      "Intercept: 4.700000000000003\n"
     ]
    }
   ],
   "source": [
    "import numpy as np\n",
    "from scipy import stats\n",
    "\n",
    "# Example data\n",
    "x = np.array([5, 10, 15, 20, 25])\n",
    "y = np.array([12, 24, 37, 43, 50])\n",
    "\n",
    "# Performing linear regression\n",
    "slope, intercept, r_value, p_value, std_err = stats.linregress(x, y)\n",
    "\n",
    "# The slope and intercept of the regression line\n",
    "print(\"Slope:\", slope)\n",
    "print(\"Intercept:\", intercept)"
   ]
  },
  {
   "cell_type": "markdown",
   "id": "ece18431",
   "metadata": {},
   "source": [
    "### ANOVA (Analysis of Variance)"
   ]
  },
  {
   "cell_type": "markdown",
   "id": "dc4afe8d",
   "metadata": {},
   "source": [
    "- Analysis of Variance (ANOVA) is a statistical method used to compare the means of three or more different groups to see if they are significantly different from each other.\n",
    "- It’s based on analyzing the variances within and between groups."
   ]
  },
  {
   "cell_type": "code",
   "execution_count": 3,
   "id": "649e865e",
   "metadata": {},
   "outputs": [
    {
     "name": "stdout",
     "output_type": "stream",
     "text": [
      "66.95238095238099 3.095071448055995e-07\n"
     ]
    }
   ],
   "source": [
    "import numpy as np\n",
    "from scipy import stats\n",
    "\n",
    "# Three groups\n",
    "A = np.array([80, 82, 79, 81, 80])\n",
    "B = np.array([85, 87, 84, 86, 88])\n",
    "C = np.array([90, 91, 92, 89, 93])\n",
    "\n",
    "F, p = stats.f_oneway(A, B, C)\n",
    "print(F, p)"
   ]
  },
  {
   "cell_type": "code",
   "execution_count": 4,
   "id": "354c8c2d",
   "metadata": {},
   "outputs": [
    {
     "name": "stdout",
     "output_type": "stream",
     "text": [
      "F-value: 60.48275862068964\n",
      "P-value: 5.403228229488651e-07\n"
     ]
    }
   ],
   "source": [
    "from scipy import stats\n",
    "\n",
    "# Sample data from three different groups\n",
    "group1 = [20, 21, 19, 22, 24]\n",
    "group2 = [28, 30, 27, 26, 29]\n",
    "group3 = [33, 35, 34, 31, 32]\n",
    "\n",
    "# Performing one-way ANOVA\n",
    "f_value, p_value = stats.f_oneway(group1, group2, group3)\n",
    "print(\"F-value:\", f_value)\n",
    "print(\"P-value:\", p_value)"
   ]
  },
  {
   "cell_type": "markdown",
   "id": "f56fabd2",
   "metadata": {},
   "source": [
    "### Correlation and Covariance"
   ]
  },
  {
   "cell_type": "markdown",
   "id": "03a725f9",
   "metadata": {},
   "source": [
    "Pearson Correlation Coefficient: The Pearson Correlation Coefficient is a statistical measure that calculates the strength and direction of the linear relationship between two continuous variables. Its value ranges from -1 to 1, where:\n",
    "- 1 indicates a perfect positive linear relationship,\n",
    "- -1 indicates a perfect negative linear relationship, and\n",
    "- 0 indicates no linear relationship.\n",
    "- It measures the linear relationship between two continuous variables."
   ]
  },
  {
   "cell_type": "markdown",
   "id": "908c88a4",
   "metadata": {},
   "source": [
    "#### It measures the linear relationship between two continuous variables."
   ]
  },
  {
   "cell_type": "markdown",
   "id": "7a0f27b3",
   "metadata": {},
   "source": [
    "Spearman Correlation Coefficient: \n",
    "- The Spearman Rank Correlation is a non-parametric measure of the monotonic relationship between two variables. Unlike the Pearson correlation, which assesses linear relationships, the Spearman correlation evaluates how well the relationship between two variables can be described using a monotonic function, where the variables tend to move in the same direction but not necessarily at a constant rate."
   ]
  },
  {
   "cell_type": "markdown",
   "id": "834df03a",
   "metadata": {},
   "source": []
  }
 ],
 "metadata": {
  "kernelspec": {
   "display_name": ".venv",
   "language": "python",
   "name": "python3"
  },
  "language_info": {
   "codemirror_mode": {
    "name": "ipython",
    "version": 3
   },
   "file_extension": ".py",
   "mimetype": "text/x-python",
   "name": "python",
   "nbconvert_exporter": "python",
   "pygments_lexer": "ipython3",
   "version": "3.11.9"
  }
 },
 "nbformat": 4,
 "nbformat_minor": 5
}
