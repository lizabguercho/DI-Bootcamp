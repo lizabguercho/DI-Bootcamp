{
 "cells": [
  {
   "cell_type": "markdown",
   "id": "48324990",
   "metadata": {},
   "source": [
    "t-statistics\n",
    "t-test determine statsticaly whether one group of data came from the same distribution of another group"
   ]
  }
 ],
 "metadata": {
  "language_info": {
   "name": "python"
  }
 },
 "nbformat": 4,
 "nbformat_minor": 5
}
