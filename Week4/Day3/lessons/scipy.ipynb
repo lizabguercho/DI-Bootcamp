{
 "cells": [
  {
   "cell_type": "markdown",
   "id": "48324990",
   "metadata": {},
   "source": [
    "t-statistics\n",
    "t-test determine statsticaly whether one group of data came from the same distribution of another group"
   ]
  },
  {
   "cell_type": "markdown",
   "id": "df800456",
   "metadata": {},
   "source": [
    "# Basic Statistical functions"
   ]
  },
  {
   "cell_type": "markdown",
   "id": "2357eeb7",
   "metadata": {},
   "source": [
    "### Using Numpy"
   ]
  },
  {
   "cell_type": "code",
   "execution_count": 7,
   "id": "10ab714d",
   "metadata": {},
   "outputs": [
    {
     "name": "stdout",
     "output_type": "stream",
     "text": [
      "6337.1\n",
      "6092.5\n",
      "4195532.210000001\n"
     ]
    }
   ],
   "source": [
    "import numpy as np\n",
    "\n",
    "daily_steps = np.random.randint(3000, 10000, size=50)\n",
    "\n",
    "mean_np = np.mean(daily_steps)\n",
    "median_np = np.median(daily_steps)\n",
    "variance_np = np.var(daily_steps)\n",
    "std_dev_np = np.std(daily_steps)\n",
    "\n",
    "print(mean_np)\n",
    "print(median_np)\n",
    "print(variance_np)"
   ]
  },
  {
   "cell_type": "markdown",
   "id": "1bc13080",
   "metadata": {},
   "source": [
    "### Using SciPy"
   ]
  },
  {
   "cell_type": "code",
   "execution_count": 2,
   "id": "fe46e7eb",
   "metadata": {},
   "outputs": [],
   "source": [
    "import scipy.stats as stats\n",
    "\n",
    "mean_scipy = stats.tmean(daily_steps)\n",
    "median_scipy = np.median(daily_steps)  # SciPy does not have a separate median function\n",
    "variance_scipy = stats.tvar(daily_steps)\n",
    "std_dev_scipy = stats.tstd(daily_steps)"
   ]
  },
  {
   "cell_type": "markdown",
   "id": "4e04e70f",
   "metadata": {},
   "source": [
    "### Advanced Statistics with SciPy"
   ]
  },
  {
   "cell_type": "code",
   "execution_count": 10,
   "id": "6fb39008",
   "metadata": {},
   "outputs": [
    {
     "name": "stdout",
     "output_type": "stream",
     "text": [
      "0.26548606111823453\n",
      "-1.1649670890912405\n"
     ]
    }
   ],
   "source": [
    "skewness = stats.skew(daily_steps)\n",
    "kurtosis = stats.kurtosis(daily_steps)\n",
    "print(skewness)\n",
    "print(kurtosis)"
   ]
  },
  {
   "cell_type": "code",
   "execution_count": 11,
   "id": "fb004ee4",
   "metadata": {},
   "outputs": [
    {
     "name": "stdout",
     "output_type": "stream",
     "text": [
      "        Date  DVLPRS_Price\n",
      "0 2023-01-01    117.640523\n",
      "1 2023-01-02    104.001572\n",
      "2 2023-01-03    109.787380\n",
      "3 2023-01-04    122.408932\n",
      "4 2023-01-05    118.675580\n"
     ]
    }
   ],
   "source": [
    "#exercise\n",
    "\n",
    "import pandas as pd\n",
    "import numpy as np\n",
    "\n",
    "# Simulating stock prices for a non-existent stock (DVLPRS)\n",
    "np.random.seed(0)  # For reproducibility\n",
    "\n",
    "# Generating 100 days of stock prices\n",
    "dates = pd.date_range(start='2023-01-01', periods=100)\n",
    "prices = np.random.normal(loc=100, scale=10, size=len(dates))  # Assume a mean price of 100 with a standard deviation of 10\n",
    "\n",
    "# Creating a DataFrame\n",
    "stock_data = pd.DataFrame({\n",
    "    'Date': dates,\n",
    "    'DVLPRS_Price': prices\n",
    "})\n",
    "\n",
    "# Displaying the first few rows of the simulated data\n",
    "print(stock_data.head())"
   ]
  },
  {
   "cell_type": "code",
   "execution_count": 17,
   "id": "16ff2425",
   "metadata": {},
   "outputs": [
    {
     "name": "stdout",
     "output_type": "stream",
     "text": [
      "[117.64052346 104.00157208 109.78737984 122.40893199 118.6755799\n",
      "  90.2272212  109.50088418  98.48642792  98.96781148 104.10598502\n",
      " 101.44043571 114.54273507 107.61037725 101.21675016 104.43863233\n",
      " 103.33674327 114.94079073  97.94841736 103.13067702  91.45904261\n",
      "  74.47010184 106.53618595 108.64436199  92.5783498  122.69754624\n",
      "  85.45634325 100.45758517  98.1281615  115.32779214 114.6935877\n",
      " 101.54947426 103.7816252   91.12214252  80.19203532  96.52087851\n",
      " 101.56348969 112.30290681 112.02379849  96.12673183  96.97697249\n",
      "  89.51447035  85.79982063  82.93729809 119.50775395  94.90347818\n",
      "  95.61925698  87.4720464  107.77490356  83.86102152  97.8725972\n",
      "  91.04533439 103.86902498  94.89194862  88.19367816  99.71817772\n",
      " 104.28331871 100.66517222 103.02471898  93.65677906  96.37258834\n",
      "  93.27539552  96.40446838  91.86853718  82.73717398 101.77426142\n",
      "  95.98219064  83.69801653 104.62782256  90.92701636 100.51945396\n",
      " 107.29090562 101.28982911 111.39400685  87.6517418  104.02341641\n",
      "  93.15189909  91.29202851  94.21150335  96.88447468 100.56165342\n",
      "  88.34850159 109.00826487 104.6566244   84.63756314 114.88252194\n",
      " 118.95889176 111.78779571  98.20075164  89.29247378 110.54451727\n",
      "  95.96823053 112.2244507  102.08274978 109.76639036 103.56366397\n",
      " 107.06573168 100.10500021 117.85870494 101.26912093 104.01989363]\n"
     ]
    }
   ],
   "source": [
    "prices_np = stock_data['DVLPRS_Price'].to_numpy()\n",
    "print(prices_np)"
   ]
  },
  {
   "cell_type": "code",
   "execution_count": 27,
   "id": "d64d08bf",
   "metadata": {},
   "outputs": [
    {
     "name": "stdout",
     "output_type": "stream",
     "text": [
      "Mean: 100.6\n",
      "Median: 100.94\n",
      "Variance: 101.58\n",
      "Standard Variation: 10.08\n"
     ]
    }
   ],
   "source": [
    "mean_prices_np = np.mean(prices_np)\n",
    "print(\"Mean:\",round(mean_prices_np,2))\n",
    "median_prices_np = np.median(prices_np)\n",
    "print(\"Median:\",round(median_prices_np,2))\n",
    "var_prices_np = np.var(prices_np)\n",
    "print(\"Variance:\",round(var_prices_np,2))\n",
    "std_prices_np = np.std(prices_np)\n",
    "print(\"Standard Variation:\",round(std_prices_np,2))"
   ]
  },
  {
   "cell_type": "markdown",
   "id": "8764a37e",
   "metadata": {},
   "source": [
    "### T-statistics"
   ]
  },
  {
   "cell_type": "markdown",
   "id": "5d7894d3",
   "metadata": {},
   "source": [
    "- A T-test is a statistical method used to determine if there is a significant difference between the means of two groups.\n",
    "- It’s particularly useful when dealing with small sample sizes or unknown population variances."
   ]
  },
  {
   "cell_type": "code",
   "execution_count": 35,
   "id": "b6aff2d8",
   "metadata": {},
   "outputs": [],
   "source": [
    "import numpy as np\n",
    "\n",
    "# Sample data\n",
    "group_a_scores = np.array([75, 88, 91, 83, 85])\n",
    "group_b_scores = np.array([79, 90, 87, 88, 90])\n",
    "\n",
    "# Calculate means\n",
    "mean_a = np.mean(group_a_scores)\n",
    "mean_b = np.mean(group_b_scores)"
   ]
  },
  {
   "cell_type": "code",
   "execution_count": 36,
   "id": "824024f1",
   "metadata": {},
   "outputs": [],
   "source": [
    "# Calculate standard deviation\n",
    "std_a = np.std(group_a_scores, ddof=1)\n",
    "std_b = np.std(group_b_scores, ddof=1)"
   ]
  },
  {
   "cell_type": "code",
   "execution_count": 38,
   "id": "743a8bd9",
   "metadata": {},
   "outputs": [
    {
     "name": "stdout",
     "output_type": "stream",
     "text": [
      "-0.7077213895435037\n",
      "0.4992141336832657\n"
     ]
    }
   ],
   "source": [
    "from scipy.stats import ttest_ind\n",
    "\n",
    "# Perform T-test\n",
    "t_stat, p_val = ttest_ind(group_a_scores, group_b_scores)\n",
    "print(t_stat)\n",
    "print(p_val)\n",
    "\n",
    "\n"
   ]
  },
  {
   "cell_type": "code",
   "execution_count": null,
   "id": "974927a3",
   "metadata": {},
   "outputs": [],
   "source": [
    "# exercise T-test"
   ]
  },
  {
   "cell_type": "code",
   "execution_count": 39,
   "id": "0198e116",
   "metadata": {},
   "outputs": [
    {
     "name": "stdout",
     "output_type": "stream",
     "text": [
      "T-statistic: 0.9995513409138397\n",
      "P-value: 0.3187476640791459\n"
     ]
    }
   ],
   "source": [
    "# T-test Example\n",
    "group1 = stats.norm.rvs(loc=5, scale=10, size=100)\n",
    "group2 = stats.norm.rvs(loc=5, scale=10, size=100)\n",
    "\n",
    "t_statistic, p_value = stats.ttest_ind(group1, group2)\n",
    "print(\"T-statistic:\", t_statistic)\n",
    "print(\"P-value:\", p_value)"
   ]
  }
 ],
 "metadata": {
  "kernelspec": {
   "display_name": ".venv",
   "language": "python",
   "name": "python3"
  },
  "language_info": {
   "codemirror_mode": {
    "name": "ipython",
    "version": 3
   },
   "file_extension": ".py",
   "mimetype": "text/x-python",
   "name": "python",
   "nbconvert_exporter": "python",
   "pygments_lexer": "ipython3",
   "version": "3.11.9"
  }
 },
 "nbformat": 4,
 "nbformat_minor": 5
}
