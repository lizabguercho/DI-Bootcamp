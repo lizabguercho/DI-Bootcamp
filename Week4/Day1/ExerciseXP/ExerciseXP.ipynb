{
 "cells": [
  {
   "cell_type": "markdown",
   "id": "0b08a0d1",
   "metadata": {},
   "source": [
    " Exercise 1 : Array Creation and Manipulation"
   ]
  },
  {
   "cell_type": "code",
   "execution_count": 3,
   "id": "a6ef502a",
   "metadata": {},
   "outputs": [
    {
     "data": {
      "text/plain": [
       "array([0, 1, 2, 3, 4, 5, 6, 7, 8, 9])"
      ]
     },
     "execution_count": 3,
     "metadata": {},
     "output_type": "execute_result"
    }
   ],
   "source": [
    "import numpy as np\n",
    "array1d = np.arange(0,10)\n",
    "array1d"
   ]
  },
  {
   "cell_type": "markdown",
   "id": "ab985075",
   "metadata": {},
   "source": [
    " Exercise 2 : Type Conversion and Array Operations"
   ]
  },
  {
   "cell_type": "code",
   "execution_count": null,
   "id": "c32d0ed7",
   "metadata": {},
   "outputs": [
    {
     "data": {
      "text/plain": [
       "array([3, 2, 0, 1, 2])"
      ]
     },
     "execution_count": 7,
     "metadata": {},
     "output_type": "execute_result"
    }
   ],
   "source": [
    "list1 =[3.14, 2.17, 0, 1, 2]\n",
    "new_array = np.array(list1).astype(int)\n",
    "new_array"
   ]
  },
  {
   "cell_type": "markdown",
   "id": "d7d80918",
   "metadata": {},
   "source": [
    "Exercise 3 : Working with Multi-Dimensional Arrays"
   ]
  },
  {
   "cell_type": "code",
   "execution_count": 13,
   "id": "7e362acb",
   "metadata": {},
   "outputs": [
    {
     "data": {
      "text/plain": [
       "array([[1, 2, 3],\n",
       "       [4, 5, 6],\n",
       "       [7, 8, 9]])"
      ]
     },
     "execution_count": 13,
     "metadata": {},
     "output_type": "execute_result"
    }
   ],
   "source": [
    "array_1 = np.arange(1,10)\n",
    "reshaped = array_1.reshape(3,3)\n",
    "reshaped"
   ]
  },
  {
   "cell_type": "markdown",
   "id": "fbbc046f",
   "metadata": {},
   "source": [
    "Exercise 4 : Creating Multi-Dimensional Array with Random Numbers"
   ]
  },
  {
   "cell_type": "code",
   "execution_count": 5,
   "id": "37bbcf58",
   "metadata": {},
   "outputs": [
    {
     "name": "stdout",
     "output_type": "stream",
     "text": [
      "[[0.03 0.73 0.57 0.85 0.62]\n",
      " [0.28 0.01 0.84 0.17 0.58]\n",
      " [0.21 0.23 0.05 0.11 0.96]\n",
      " [0.82 0.9  0.07 0.85 0.34]]\n"
     ]
    }
   ],
   "source": [
    "\n",
    "random_array = np.random.rand(4,5).round(2)\n",
    "print(random_array)\n"
   ]
  },
  {
   "cell_type": "markdown",
   "id": "c592d26a",
   "metadata": {},
   "source": [
    " Exercise 5 : Indexing Arrays"
   ]
  },
  {
   "cell_type": "code",
   "execution_count": 29,
   "id": "ce5bc127",
   "metadata": {},
   "outputs": [
    {
     "data": {
      "text/plain": [
       "array([20, 21, 22, 23, 24])"
      ]
     },
     "execution_count": 29,
     "metadata": {},
     "output_type": "execute_result"
    }
   ],
   "source": [
    "array = np.array([[21,22,23,22,22],[20, 21, 22, 23, 24],[21,22,23,22,22]])\n",
    "array[1]"
   ]
  },
  {
   "cell_type": "markdown",
   "id": "dc22e3ac",
   "metadata": {},
   "source": [
    "Exercise 6 : Reversing elements"
   ]
  },
  {
   "cell_type": "code",
   "execution_count": 36,
   "id": "f0218278",
   "metadata": {},
   "outputs": [
    {
     "data": {
      "text/plain": [
       "array([0, 1, 2, 3, 4, 5, 6, 7, 8, 9])"
      ]
     },
     "execution_count": 36,
     "metadata": {},
     "output_type": "execute_result"
    }
   ],
   "source": [
    "array2 = np.array([9, 8, 7, 6, 5, 4, 3, 2, 1, 0])\n",
    "array2[::-1]"
   ]
  },
  {
   "cell_type": "markdown",
   "id": "724a931b",
   "metadata": {},
   "source": [
    "Exercise 7 : Identity Matrix"
   ]
  },
  {
   "cell_type": "code",
   "execution_count": 37,
   "id": "8eb24385",
   "metadata": {},
   "outputs": [
    {
     "name": "stdout",
     "output_type": "stream",
     "text": [
      "[[1. 0. 0. 0.]\n",
      " [0. 1. 0. 0.]\n",
      " [0. 0. 1. 0.]\n",
      " [0. 0. 0. 1.]]\n"
     ]
    }
   ],
   "source": [
    "identity_matrix = np.eye(4)\n",
    "print(identity_matrix)"
   ]
  },
  {
   "cell_type": "markdown",
   "id": "e793ba88",
   "metadata": {},
   "source": [
    "Exercise 8 : Simple Aggregate Funcs"
   ]
  },
  {
   "cell_type": "code",
   "execution_count": 55,
   "id": "81c0c685",
   "metadata": {},
   "outputs": [
    {
     "name": "stdout",
     "output_type": "stream",
     "text": [
      "[4.5 4.5 4.5 4.5 4.5 4.5 4.5 4.5 4.5 4.5]\n",
      "Sum: 45.0\n",
      "Average 4.5\n"
     ]
    }
   ],
   "source": [
    "array3 = np.full(10,4.5)\n",
    "print(array3)\n",
    "print(\"Sum:\",array3.sum())\n",
    "print(\"Average\",array3.mean())"
   ]
  },
  {
   "cell_type": "markdown",
   "id": "69b04e97",
   "metadata": {},
   "source": [
    "Exercise 9 : Create Array and Change its Structure"
   ]
  },
  {
   "cell_type": "code",
   "execution_count": 58,
   "id": "3bbc97d0",
   "metadata": {},
   "outputs": [
    {
     "data": {
      "text/plain": [
       "array([[ 1,  2,  3,  4,  5],\n",
       "       [ 6,  7,  8,  9, 10],\n",
       "       [11, 12, 13, 14, 15],\n",
       "       [16, 17, 18, 19, 20]])"
      ]
     },
     "execution_count": 58,
     "metadata": {},
     "output_type": "execute_result"
    }
   ],
   "source": [
    "array4 = np.arange(1,21).reshape(4,5)\n",
    "array4"
   ]
  },
  {
   "cell_type": "markdown",
   "id": "4145f91c",
   "metadata": {},
   "source": [
    "Exercise 10 : Conditional Selection of Values"
   ]
  },
  {
   "cell_type": "code",
   "execution_count": 64,
   "id": "42c027d5",
   "metadata": {},
   "outputs": [
    {
     "data": {
      "text/plain": [
       "array([1, 3, 5, 7, 9])"
      ]
     },
     "execution_count": 64,
     "metadata": {},
     "output_type": "execute_result"
    }
   ],
   "source": [
    "array5 = np.arange(1,10)\n",
    "array5[0::2]"
   ]
  }
 ],
 "metadata": {
  "kernelspec": {
   "display_name": ".venv",
   "language": "python",
   "name": "python3"
  },
  "language_info": {
   "codemirror_mode": {
    "name": "ipython",
    "version": 3
   },
   "file_extension": ".py",
   "mimetype": "text/x-python",
   "name": "python",
   "nbconvert_exporter": "python",
   "pygments_lexer": "ipython3",
   "version": "3.11.9"
  }
 },
 "nbformat": 4,
 "nbformat_minor": 5
}
