{
 "cells": [
  {
   "cell_type": "code",
   "execution_count": 2,
   "id": "6d83cd71",
   "metadata": {},
   "outputs": [
    {
     "name": "stdout",
     "output_type": "stream",
     "text": [
      "1D Array: [1 2 3 4]\n",
      "2D Array:\n",
      " [[1 2 3 4]\n",
      " [5 6 7 8]]\n",
      "3D Array:\n",
      " [[[1 2]\n",
      "  [3 4]]\n",
      "\n",
      " [[5 6]\n",
      "  [7 8]]]\n"
     ]
    }
   ],
   "source": [
    "import numpy as np\n",
    "\n",
    "# Creating a 1D NumPy array\n",
    "array_1d = np.array([1, 2, 3, 4])\n",
    "print(\"1D Array:\", array_1d)  # Expected Output: 1D Array: [1 2 3 4]\n",
    "\n",
    "# Creating a 2D NumPy array\n",
    "array_2d = np.array([[1, 2, 3, 4], [5, 6, 7,8]])\n",
    "print(\"2D Array:\\n\", array_2d)\n",
    "\n",
    "# Creating a 3D NumPy array\n",
    "array_3d = np.array([[[1, 2],[3,4]],[[5, 6],[7,8]]])\n",
    "print(\"3D Array:\\n\", array_3d)\n",
    "\n",
    "\n"
   ]
  },
  {
   "cell_type": "code",
   "execution_count": 8,
   "id": "1e1c65bf",
   "metadata": {},
   "outputs": [
    {
     "data": {
      "text/plain": [
       "dtype('int64')"
      ]
     },
     "execution_count": 8,
     "metadata": {},
     "output_type": "execute_result"
    }
   ],
   "source": [
    "array_3d.dtype"
   ]
  },
  {
   "cell_type": "code",
   "execution_count": 19,
   "id": "a6d9c8b9",
   "metadata": {},
   "outputs": [
    {
     "name": "stdout",
     "output_type": "stream",
     "text": [
      "[1 2 3 4]\n"
     ]
    },
    {
     "data": {
      "text/plain": [
       "dtype('int64')"
      ]
     },
     "execution_count": 19,
     "metadata": {},
     "output_type": "execute_result"
    }
   ],
   "source": [
    "array1d = np.array([1,2,3,4,5])\n",
    "print(array_1d)\n",
    "# array1d.shape\n",
    "array1d.size\n",
    "array1d.dtype"
   ]
  },
  {
   "cell_type": "code",
   "execution_count": 20,
   "id": "716fdcff",
   "metadata": {},
   "outputs": [
    {
     "name": "stdout",
     "output_type": "stream",
     "text": [
      "[[1 2 3 4]\n",
      " [5 6 7 8]]\n"
     ]
    },
    {
     "data": {
      "text/plain": [
       "dtype('int64')"
      ]
     },
     "execution_count": 20,
     "metadata": {},
     "output_type": "execute_result"
    }
   ],
   "source": [
    "array2d = np.array([[1,2,3],[4,5,6]])\n",
    "print(array_2d)\n",
    "array2d.shape\n",
    "array2d.size\n",
    "array2d.dtype"
   ]
  },
  {
   "cell_type": "code",
   "execution_count": 18,
   "id": "3ed4b81a",
   "metadata": {},
   "outputs": [
    {
     "name": "stdout",
     "output_type": "stream",
     "text": [
      "[1.1 2.1 3.1]\n"
     ]
    }
   ],
   "source": [
    "arr = np.array([1.1, 2.1, 3.1])\n",
    "\n",
    "newarr = arr.astype(float)\n",
    "print(newarr)"
   ]
  },
  {
   "cell_type": "code",
   "execution_count": 25,
   "id": "c35b2595",
   "metadata": {},
   "outputs": [
    {
     "name": "stdout",
     "output_type": "stream",
     "text": [
      "[[[ 1  2  3  4]\n",
      "  [ 5  6  7  8]\n",
      "  [ 9 10 11 12]]\n",
      "\n",
      " [[13 14 15 16]\n",
      "  [17 18 19 20]\n",
      "  [21 22 23 24]]]\n"
     ]
    }
   ],
   "source": [
    "array_2d3d = np.array([\n",
    "                        [[1, 2, 3, 4], \n",
    "                        [5, 6, 7, 8],\n",
    "                        [9, 10, 11, 12]\n",
    "                        ],\n",
    "                       \n",
    "                       [[13, 14, 15, 16],\n",
    "                        [17, 18, 19, 20],\n",
    "                        [21, 22, 23, 24]]\n",
    "                      ])\n",
    "print(array_2d3d)"
   ]
  },
  {
   "cell_type": "code",
   "execution_count": null,
   "id": "0b984f45",
   "metadata": {},
   "outputs": [
    {
     "data": {
      "text/plain": [
       "np.int64(7)"
      ]
     },
     "execution_count": 26,
     "metadata": {},
     "output_type": "execute_result"
    }
   ],
   "source": [
    "array_2d3d[0,1,2] # 0-layer, 1- row, 2 column"
   ]
  },
  {
   "cell_type": "code",
   "execution_count": null,
   "id": "d4396cd4",
   "metadata": {},
   "outputs": [
    {
     "data": {
      "text/plain": [
       "array([ 9, 10, 11, 12])"
      ]
     },
     "execution_count": 27,
     "metadata": {},
     "output_type": "execute_result"
    }
   ],
   "source": [
    "array_2d3d[0,2] # to get 3rd row "
   ]
  },
  {
   "cell_type": "code",
   "execution_count": 29,
   "id": "caf9991f",
   "metadata": {},
   "outputs": [
    {
     "data": {
      "text/plain": [
       "array([1, 5])"
      ]
     },
     "execution_count": 29,
     "metadata": {},
     "output_type": "execute_result"
    }
   ],
   "source": [
    "array_2d3d[0,0:2,0]"
   ]
  },
  {
   "cell_type": "code",
   "execution_count": null,
   "id": "6f14c5ae",
   "metadata": {},
   "outputs": [
    {
     "data": {
      "text/plain": [
       "array([1, 5, 9])"
      ]
     },
     "execution_count": 31,
     "metadata": {},
     "output_type": "execute_result"
    }
   ],
   "source": [
    "array_2d3d[0,:,0]  # : - all rows"
   ]
  },
  {
   "cell_type": "code",
   "execution_count": null,
   "id": "4b6fa958",
   "metadata": {},
   "outputs": [
    {
     "data": {
      "text/plain": [
       "array([[ 1,  3],\n",
       "       [ 5,  7],\n",
       "       [ 9, 11]])"
      ]
     },
     "execution_count": 32,
     "metadata": {},
     "output_type": "execute_result"
    }
   ],
   "source": [
    "array_2d3d[0,:,::2]  # ::2 from begiiing to the end bu skipping every other column"
   ]
  },
  {
   "cell_type": "code",
   "execution_count": 33,
   "id": "3d670bf4",
   "metadata": {},
   "outputs": [
    {
     "data": {
      "text/plain": [
       "array([ 7,  8,  9, 10, 11, 12, 13, 14, 15, 16, 17, 18, 19, 20, 21, 22, 23,\n",
       "       24])"
      ]
     },
     "execution_count": 33,
     "metadata": {},
     "output_type": "execute_result"
    }
   ],
   "source": [
    "# Boolean indexing\n",
    "array_2d3d[array_2d3d > 6]"
   ]
  },
  {
   "cell_type": "code",
   "execution_count": 35,
   "id": "64f5aa97",
   "metadata": {},
   "outputs": [
    {
     "name": "stdout",
     "output_type": "stream",
     "text": [
      "[47 49 51 53 55 57 59 61 63 65 67 69 71 73 75 77 79 81 83 85 87 89 91]\n"
     ]
    }
   ],
   "source": [
    "arranged = np.arange(47,92,2)\n",
    "print(arranged)"
   ]
  },
  {
   "cell_type": "code",
   "execution_count": 38,
   "id": "3f33e0e7",
   "metadata": {},
   "outputs": [
    {
     "name": "stdout",
     "output_type": "stream",
     "text": [
      "[[[ 1  2  3  4]\n",
      "  [ 5  6  7  8]\n",
      "  [ 9 10 11 12]]\n",
      "\n",
      " [[13 14 15 16]\n",
      "  [17 18 19 20]\n",
      "  [21 22 23 24]]]\n"
     ]
    }
   ],
   "source": [
    "new = np.array(array_2d3d)\n",
    "print(new)"
   ]
  },
  {
   "cell_type": "code",
   "execution_count": null,
   "id": "1db6dd32",
   "metadata": {},
   "outputs": [
    {
     "data": {
      "text/plain": [
       "array([[[ 1,  2,  3,  4],\n",
       "        [65, 64, 63, 62],\n",
       "        [ 9, 10, 11, 12]],\n",
       "\n",
       "       [[13, 14, 15, 16],\n",
       "        [17, 18, 19, 20],\n",
       "        [21, 22, 23, 24]]])"
      ]
     },
     "execution_count": 39,
     "metadata": {},
     "output_type": "execute_result"
    }
   ],
   "source": [
    "new[0,1] = [65,64,63,62] # to change values in a pecific place\n",
    "new"
   ]
  },
  {
   "cell_type": "code",
   "execution_count": 42,
   "id": "ad5f983d",
   "metadata": {},
   "outputs": [
    {
     "data": {
      "text/plain": [
       "array([[[99, 99, 99, 99],\n",
       "        [65, 64, 63, 62],\n",
       "        [ 9, 10, 11, 12]],\n",
       "\n",
       "       [[13, 14, 15, 16],\n",
       "        [17, 18, 19, 20],\n",
       "        [21, 22, 23, 24]]])"
      ]
     },
     "execution_count": 42,
     "metadata": {},
     "output_type": "execute_result"
    }
   ],
   "source": [
    "new[0,0] =99\n",
    "new"
   ]
  },
  {
   "cell_type": "code",
   "execution_count": 46,
   "id": "354cad18",
   "metadata": {},
   "outputs": [
    {
     "data": {
      "text/plain": [
       "array([[[99, 99, 99, 99],\n",
       "        [65, 64, 63, 62],\n",
       "        [ 9, 10, 11, 12]],\n",
       "\n",
       "       [[ 1,  1,  1,  1],\n",
       "        [ 2,  2,  2,  2],\n",
       "        [21, 22, 23, 24]]])"
      ]
     },
     "execution_count": 46,
     "metadata": {},
     "output_type": "execute_result"
    }
   ],
   "source": [
    "new[1,:2] = np.array([1,2]).reshape((2,1))\n",
    "new"
   ]
  },
  {
   "cell_type": "code",
   "execution_count": 50,
   "id": "6eda971b",
   "metadata": {},
   "outputs": [],
   "source": [
    "a = np.array([1,2,3])\n",
    "b = np.array([4,5,6])"
   ]
  },
  {
   "cell_type": "code",
   "execution_count": 51,
   "id": "36e7e86b",
   "metadata": {},
   "outputs": [
    {
     "data": {
      "text/plain": [
       "array([5, 7, 9])"
      ]
     },
     "execution_count": 51,
     "metadata": {},
     "output_type": "execute_result"
    }
   ],
   "source": [
    "a+b"
   ]
  },
  {
   "cell_type": "code",
   "execution_count": 52,
   "id": "5351ef76",
   "metadata": {},
   "outputs": [
    {
     "data": {
      "text/plain": [
       "array([ 4, 10, 18])"
      ]
     },
     "execution_count": 52,
     "metadata": {},
     "output_type": "execute_result"
    }
   ],
   "source": [
    "a*b"
   ]
  },
  {
   "cell_type": "code",
   "execution_count": 55,
   "id": "7b86cfa0",
   "metadata": {},
   "outputs": [],
   "source": [
    "c = np.array([[1,2,3],\n",
    "             [4,5,6]])\n",
    "\n",
    "d = np.array([1,1,1])\n",
    "\n"
   ]
  },
  {
   "cell_type": "code",
   "execution_count": 56,
   "id": "74805039",
   "metadata": {},
   "outputs": [
    {
     "data": {
      "text/plain": [
       "array([[2, 3, 4],\n",
       "       [5, 6, 7]])"
      ]
     },
     "execution_count": 56,
     "metadata": {},
     "output_type": "execute_result"
    }
   ],
   "source": [
    "c+d"
   ]
  },
  {
   "cell_type": "code",
   "execution_count": 6,
   "id": "01213916",
   "metadata": {},
   "outputs": [
    {
     "data": {
      "text/plain": [
       "array([7, 5, 1, 2, 4, 6, 3])"
      ]
     },
     "execution_count": 6,
     "metadata": {},
     "output_type": "execute_result"
    }
   ],
   "source": [
    "x = np.array([1, 2, 3, 4, 5, 6, 7])\n",
    "new = np.random.permutation(x)\n",
    "new"
   ]
  },
  {
   "cell_type": "code",
   "execution_count": 14,
   "id": "9a14582d",
   "metadata": {},
   "outputs": [
    {
     "data": {
      "text/plain": [
       "array([[5, 6],\n",
       "       [3, 4],\n",
       "       [1, 2]])"
      ]
     },
     "execution_count": 14,
     "metadata": {},
     "output_type": "execute_result"
    }
   ],
   "source": [
    "two = np.array([[1,2], [3,4], [5,6]])\n",
    "np.random.permutation(two)"
   ]
  },
  {
   "cell_type": "code",
   "execution_count": 15,
   "id": "0ad3d702",
   "metadata": {},
   "outputs": [
    {
     "name": "stdout",
     "output_type": "stream",
     "text": [
      "Addition: [5 7 9]\n",
      "Broadcasting with scalar: [3 6 9]\n"
     ]
    }
   ],
   "source": [
    "# Creating sample arrays\n",
    "a = np.array([1, 2, 3])\n",
    "b = np.array([4, 5, 6])\n",
    "\n",
    "# Element-wise addition\n",
    "print(\"Addition:\", a + b)\n",
    "\n",
    "# Broadcasting\n",
    "print(\"Broadcasting with scalar:\", a * 3)"
   ]
  },
  {
   "cell_type": "markdown",
   "id": "58bf674f",
   "metadata": {},
   "source": [
    "Example 1: Adding a Scalar to an Array"
   ]
  },
  {
   "cell_type": "code",
   "execution_count": 16,
   "id": "5df19a3c",
   "metadata": {},
   "outputs": [
    {
     "name": "stdout",
     "output_type": "stream",
     "text": [
      "Original Array: [1 2 3]\n",
      "After Adding 5: [6 7 8]\n"
     ]
    }
   ],
   "source": [
    "# Creating a 1D array\n",
    "a = np.array([1, 2, 3])\n",
    "\n",
    "# Adding a scalar value to the array\n",
    "result = a + 5\n",
    "\n",
    "print(\"Original Array:\", a)\n",
    "print(\"After Adding 5:\", result)\n"
   ]
  },
  {
   "cell_type": "markdown",
   "id": "18269a21",
   "metadata": {},
   "source": [
    "Example 2: Combining 1D and 2D Arrays"
   ]
  },
  {
   "cell_type": "code",
   "execution_count": 17,
   "id": "ab586f7b",
   "metadata": {},
   "outputs": [
    {
     "name": "stdout",
     "output_type": "stream",
     "text": [
      "1D Array: [0 1 2]\n",
      "2D Array [[0 1 2]\n",
      " [3 4 5]]\n",
      "Broadcasted Addition: [[0 2 4]\n",
      " [3 5 7]]\n"
     ]
    }
   ],
   "source": [
    "\n",
    "# Creating a 1D array and a 2D array\n",
    "a = np.array([0, 1, 2])\n",
    "b = np.array([[0, 1, 2], [3, 4, 5]])\n",
    "\n",
    "# Adding the 1D array to each row of the 2D array\n",
    "result = a + b\n",
    "\n",
    "print(\"1D Array:\", a)\n",
    "print(\"2D Array\", b)\n",
    "print(\"Broadcasted Addition:\", result)"
   ]
  },
  {
   "cell_type": "markdown",
   "id": "34f9265b",
   "metadata": {},
   "source": [
    "Example 3: Broadcasting Arrays with Different Shapes"
   ]
  },
  {
   "cell_type": "code",
   "execution_count": 18,
   "id": "980d2e20",
   "metadata": {},
   "outputs": [
    {
     "name": "stdout",
     "output_type": "stream",
     "text": [
      "Array a: [[1]\n",
      " [2]\n",
      " [3]]\n",
      "Array b: [1 2 3]\n",
      "Broadcasted Addition: [[2 3 4]\n",
      " [3 4 5]\n",
      " [4 5 6]]\n"
     ]
    }
   ],
   "source": [
    "# Creating two arrays\n",
    "a = np.array([[1], [2], [3]])\n",
    "b = np.array([1, 2, 3])\n",
    "\n",
    "# Adding the two arrays\n",
    "result = a + b\n",
    "\n",
    "print(\"Array a:\", a)\n",
    "print(\"Array b:\", b)\n",
    "print(\"Broadcasted Addition:\", result)"
   ]
  },
  {
   "cell_type": "markdown",
   "id": "19a10194",
   "metadata": {},
   "source": [
    "Example 4: Broadcasting Limitations"
   ]
  },
  {
   "cell_type": "code",
   "execution_count": 19,
   "id": "d2dac31a",
   "metadata": {},
   "outputs": [
    {
     "name": "stdout",
     "output_type": "stream",
     "text": [
      "Error: operands could not be broadcast together with shapes (2,3) (2,) \n"
     ]
    }
   ],
   "source": [
    "# Creating two incompatible arrays\n",
    "a = np.array([[1, 2, 3], [4, 5, 6]])\n",
    "b = np.array([1, 2])\n",
    "\n",
    "try:\n",
    "    result = a + b\n",
    "except ValueError as e:\n",
    "    print(\"Error:\", e)"
   ]
  },
  {
   "cell_type": "markdown",
   "id": "979701b0",
   "metadata": {},
   "source": [
    "Example 5: Multiplying Arrays of Different Dimensions"
   ]
  },
  {
   "cell_type": "code",
   "execution_count": 20,
   "id": "f3f4ad35",
   "metadata": {},
   "outputs": [
    {
     "name": "stdout",
     "output_type": "stream",
     "text": [
      "2D Array: [[1 2 3]\n",
      " [4 5 6]]\n",
      "1D Array: [1 2 3]\n",
      "Broadcasted Multiplication: [[ 1  4  9]\n",
      " [ 4 10 18]]\n"
     ]
    }
   ],
   "source": [
    "# Creating a 2D array and a 1D array\n",
    "a = np.array([[1, 2, 3], [4, 5, 6]])\n",
    "b = np.array([1, 2, 3])\n",
    "\n",
    "# Element-wise multiplication\n",
    "result = a * b\n",
    "\n",
    "print(\"2D Array:\", a)\n",
    "print(\"1D Array:\", b)\n",
    "print(\"Broadcasted Multiplication:\", result)"
   ]
  },
  {
   "cell_type": "markdown",
   "id": "baf4be87",
   "metadata": {},
   "source": [
    "Array Aggregation: Sum, Mean, Min, Max"
   ]
  },
  {
   "cell_type": "code",
   "execution_count": 21,
   "id": "8edef52d",
   "metadata": {},
   "outputs": [
    {
     "name": "stdout",
     "output_type": "stream",
     "text": [
      "Sum: 21\n",
      "Mean: 3.5\n",
      "Min: 1 Max: 6\n"
     ]
    }
   ],
   "source": [
    "# Creating a sample array\n",
    "array = np.array([[1, 2, 3], [4, 5, 6]])\n",
    "\n",
    "# Sum of all elements\n",
    "print(\"Sum:\", np.sum(array))\n",
    "\n",
    "# Mean value\n",
    "print(\"Mean:\", np.mean(array))\n",
    "\n",
    "# Minimum and Maximum\n",
    "print(\"Min:\", np.min(array), \"Max:\", np.max(array))"
   ]
  },
  {
   "cell_type": "markdown",
   "id": "9933ef7c",
   "metadata": {},
   "source": [
    "Reshaping array"
   ]
  },
  {
   "cell_type": "code",
   "execution_count": 22,
   "id": "7f1e6c05",
   "metadata": {},
   "outputs": [
    {
     "name": "stdout",
     "output_type": "stream",
     "text": [
      "Reshaped to 3x3:\n",
      " [[1 2 3]\n",
      " [4 5 6]\n",
      " [7 8 9]]\n"
     ]
    }
   ],
   "source": [
    "# Creating a 1D array\n",
    "array = np.arange(1, 10)  # Array of numbers from 1 to 9\n",
    "\n",
    "# Reshaping to a 3x3 matrix\n",
    "reshaped_array = array.reshape(3, 3)\n",
    "print(\"Reshaped to 3x3:\\n\", reshaped_array)"
   ]
  },
  {
   "cell_type": "code",
   "execution_count": 23,
   "id": "0adecb2a",
   "metadata": {},
   "outputs": [
    {
     "name": "stdout",
     "output_type": "stream",
     "text": [
      "Transposed array:\n",
      " [[1 4 7]\n",
      " [2 5 8]\n",
      " [3 6 9]]\n"
     ]
    }
   ],
   "source": [
    "transposed_array = reshaped_array.T\n",
    "print(\"Transposed array:\\n\", transposed_array)"
   ]
  },
  {
   "cell_type": "code",
   "execution_count": 25,
   "id": "7498b0eb",
   "metadata": {},
   "outputs": [
    {
     "data": {
      "text/plain": [
       "array([[  1,   2,   3,   4,   5],\n",
       "       [  6,   7,   8,   9,  10],\n",
       "       [ 11,  12,  13,  14,  15],\n",
       "       [ 16,  17,  18,  19,  20],\n",
       "       [ 21,  22,  23,  24,  25],\n",
       "       [ 26,  27,  28,  29,  30],\n",
       "       [ 31,  32,  33,  34,  35],\n",
       "       [ 36,  37,  38,  39,  40],\n",
       "       [ 41,  42,  43,  44,  45],\n",
       "       [ 46,  47,  48,  49,  50],\n",
       "       [ 51,  52,  53,  54,  55],\n",
       "       [ 56,  57,  58,  59,  60],\n",
       "       [ 61,  62,  63,  64,  65],\n",
       "       [ 66,  67,  68,  69,  70],\n",
       "       [ 71,  72,  73,  74,  75],\n",
       "       [ 76,  77,  78,  79,  80],\n",
       "       [ 81,  82,  83,  84,  85],\n",
       "       [ 86,  87,  88,  89,  90],\n",
       "       [ 91,  92,  93,  94,  95],\n",
       "       [ 96,  97,  98,  99, 100]])"
      ]
     },
     "execution_count": 25,
     "metadata": {},
     "output_type": "execute_result"
    }
   ],
   "source": [
    "data = np.arange(1, 101).reshape(20, 5)\n",
    "data"
   ]
  }
 ],
 "metadata": {
  "kernelspec": {
   "display_name": ".venv",
   "language": "python",
   "name": "python3"
  },
  "language_info": {
   "codemirror_mode": {
    "name": "ipython",
    "version": 3
   },
   "file_extension": ".py",
   "mimetype": "text/x-python",
   "name": "python",
   "nbconvert_exporter": "python",
   "pygments_lexer": "ipython3",
   "version": "3.11.9"
  }
 },
 "nbformat": 4,
 "nbformat_minor": 5
}
