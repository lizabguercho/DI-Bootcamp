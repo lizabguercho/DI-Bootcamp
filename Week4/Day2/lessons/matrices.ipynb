{
 "cells": [
  {
   "metadata": {
    "ExecuteTime": {
     "end_time": "2025-09-25T14:38:53.444726Z",
     "start_time": "2025-09-25T14:38:53.393520Z"
    }
   },
   "cell_type": "code",
   "source": [
    "import numpy as np\n",
    "\n",
    "# Creating a matrix\n",
    "matrix_A = np.array([[1, 2], [3, 4]])\n",
    "print(\"Matrix A:\\n\", matrix_A)\n",
    "\n",
    "# Reshaping a matrix\n",
    "reshaped_matrix = np.reshape(matrix_A, (4, 1))\n",
    "print(\"Reshaped Matrix:\\n\", reshaped_matrix)\n",
    "\n",
    "# Changing values in a matrix\n",
    "matrix_A[0, 0] = 5\n",
    "print(\"Updated Matrix A:\\n\", matrix_A)"
   ],
   "id": "b1e01018c1f094d3",
   "outputs": [
    {
     "name": "stdout",
     "output_type": "stream",
     "text": [
      "Matrix A:\n",
      " [[1 2]\n",
      " [3 4]]\n",
      "Reshaped Matrix:\n",
      " [[1]\n",
      " [2]\n",
      " [3]\n",
      " [4]]\n",
      "Updated Matrix A:\n",
      " [[5 2]\n",
      " [3 4]]\n"
     ]
    }
   ],
   "execution_count": 1
  },
  {
   "metadata": {
    "ExecuteTime": {
     "end_time": "2025-09-25T14:43:54.495169Z",
     "start_time": "2025-09-25T14:43:54.487423Z"
    }
   },
   "cell_type": "code",
   "source": [
    "import numpy as np\n",
    "\n",
    "# Example survey data matrix (5 respondents, 4 questions)\n",
    "survey_data = np.array([[5, 1, 4, 4],\n",
    "                        [4, 2, 4, 3],\n",
    "                        [5, 1, 1, 5],\n",
    "                        [3, 2, 1, 2],\n",
    "                        [2, 1, 2, 5]])\n",
    "\n",
    "# Calculating various statistics\n",
    "average_responses = np.mean(survey_data, axis=0)\n",
    "total_responses = np.sum(survey_data, axis=0)\n",
    "max_responses = np.max(survey_data, axis=0)\n",
    "min_responses = np.min(survey_data, axis=0)\n",
    "\n",
    "print(\"Average Responses:\", average_responses)\n",
    "print(\"Total Responses:\", total_responses)\n",
    "print(\"Maximum Responses:\", max_responses)\n",
    "print(\"Minimum Responses:\", min_responses)"
   ],
   "id": "4e8a7abeddaa2a02",
   "outputs": [
    {
     "name": "stdout",
     "output_type": "stream",
     "text": [
      "Average Responses: [3.8 1.4 2.4 3.8]\n",
      "Total Responses: [19  7 12 19]\n",
      "Maximum Responses: [5 2 4 5]\n",
      "Minimum Responses: [2 1 1 2]\n"
     ]
    }
   ],
   "execution_count": 2
  },
  {
   "metadata": {
    "ExecuteTime": {
     "end_time": "2025-09-25T15:35:16.382759Z",
     "start_time": "2025-09-25T15:35:16.376486Z"
    }
   },
   "cell_type": "code",
   "source": [
    "import numpy as np\n",
    "\n",
    "# Movie ratings matrix (5 viewers, 3 movies)\n",
    "movie_ratings = np.array([\n",
    "    [5, 1, 4],\n",
    "    [4, 4, 2],\n",
    "    [4, 3, 5],\n",
    "    [1, 1, 5],\n",
    "    [3, 2, 1]\n",
    "])\n",
    "average_ratings = np.mean(movie_ratings, axis=0)\n",
    "high_ratings = np.max(movie_ratings, axis=1)\n",
    "\n",
    "print(\"Average Ratings:\" ,average_ratings)\n"
   ],
   "id": "153f89eef756d6d0",
   "outputs": [
    {
     "name": "stdout",
     "output_type": "stream",
     "text": [
      "Average Ratings: [3.4 2.2 3.4]\n"
     ]
    }
   ],
   "execution_count": 10
  },
  {
   "metadata": {
    "ExecuteTime": {
     "end_time": "2025-09-25T15:35:45.638744Z",
     "start_time": "2025-09-25T15:35:45.633421Z"
    }
   },
   "cell_type": "code",
   "source": [
    "# Define two matrices\n",
    "matrix_B = np.array([[2, 3], [4, 5]])\n",
    "matrix_C = np.array([[1, 1], [1, 1]])\n",
    "\n",
    "# Adding and subtracting matrices\n",
    "sum_matrix = np.add(matrix_B, matrix_C)\n",
    "diff_matrix = np.subtract(matrix_B, matrix_C)\n",
    "\n",
    "print(\"Sum of Matrices:\\n\", sum_matrix)\n",
    "print(\"Difference of Matrices:\\n\", diff_matrix)"
   ],
   "id": "509d85760418fa0e",
   "outputs": [
    {
     "name": "stdout",
     "output_type": "stream",
     "text": [
      "Sum of Matrices:\n",
      " [[3 4]\n",
      " [5 6]]\n",
      "Difference of Matrices:\n",
      " [[1 2]\n",
      " [3 4]]\n"
     ]
    }
   ],
   "execution_count": 11
  },
  {
   "metadata": {
    "ExecuteTime": {
     "end_time": "2025-09-25T15:41:12.687794Z",
     "start_time": "2025-09-25T15:41:12.683060Z"
    }
   },
   "cell_type": "code",
   "source": [
    "matrix1 = np.arange(1,10)\n",
    "reshaped1 =matrix1.reshape(3,3)\n",
    "print(reshaped1)"
   ],
   "id": "ca8a5ec065a2c740",
   "outputs": [
    {
     "name": "stdout",
     "output_type": "stream",
     "text": [
      "[[1 2 3]\n",
      " [4 5 6]\n",
      " [7 8 9]]\n"
     ]
    }
   ],
   "execution_count": 20
  },
  {
   "metadata": {
    "ExecuteTime": {
     "end_time": "2025-09-25T15:41:37.948716Z",
     "start_time": "2025-09-25T15:41:37.944590Z"
    }
   },
   "cell_type": "code",
   "source": [
    "matrix2 = np.arange(11,20)\n",
    "reshaped2 =matrix2.reshape(3,3)\n",
    "print(reshaped2)"
   ],
   "id": "e4fa63ed60439800",
   "outputs": [
    {
     "name": "stdout",
     "output_type": "stream",
     "text": [
      "[[11 12 13]\n",
      " [14 15 16]\n",
      " [17 18 19]]\n"
     ]
    }
   ],
   "execution_count": 22
  },
  {
   "metadata": {
    "ExecuteTime": {
     "end_time": "2025-09-25T15:42:15.183306Z",
     "start_time": "2025-09-25T15:42:15.179107Z"
    }
   },
   "cell_type": "code",
   "source": [
    "sum_matrix = np.add(reshaped1, reshaped2)\n",
    "print(sum_matrix)"
   ],
   "id": "ba2985a1a48ba157",
   "outputs": [
    {
     "name": "stdout",
     "output_type": "stream",
     "text": [
      "[[12 14 16]\n",
      " [18 20 22]\n",
      " [24 26 28]]\n"
     ]
    }
   ],
   "execution_count": 24
  },
  {
   "metadata": {
    "ExecuteTime": {
     "end_time": "2025-09-25T15:43:26.004074Z",
     "start_time": "2025-09-25T15:43:26.000083Z"
    }
   },
   "cell_type": "code",
   "source": [
    "substract_matrix = np.subtract(reshaped2, reshaped1)\n",
    "print(substract_matrix)"
   ],
   "id": "e951a7220329305",
   "outputs": [
    {
     "name": "stdout",
     "output_type": "stream",
     "text": [
      "[[10 10 10]\n",
      " [10 10 10]\n",
      " [10 10 10]]\n"
     ]
    }
   ],
   "execution_count": 28
  },
  {
   "metadata": {
    "ExecuteTime": {
     "end_time": "2025-09-25T15:45:00.486314Z",
     "start_time": "2025-09-25T15:45:00.482669Z"
    }
   },
   "cell_type": "code",
   "source": [
    "import numpy as np\n",
    "\n",
    "# Defining matrices\n",
    "price_matrix = np.array([[10, 15],\n",
    "                         [12, 18]])\n",
    "quantity_matrix = np.array([[30, 40],\n",
    "                            [25, 35]])\n",
    "\n",
    "# Multiplying matrices to get total sales\n",
    "total_sales_matrix = np.dot(price_matrix, quantity_matrix.T)\n",
    "\n",
    "print(\"Total Sales Matrix:\\n\", total_sales_matrix)"
   ],
   "id": "486c752099139e71",
   "outputs": [
    {
     "name": "stdout",
     "output_type": "stream",
     "text": [
      "Total Sales Matrix:\n",
      " [[ 900  775]\n",
      " [1080  930]]\n"
     ]
    }
   ],
   "execution_count": 29
  },
  {
   "metadata": {
    "ExecuteTime": {
     "end_time": "2025-09-25T15:52:20.058607Z",
     "start_time": "2025-09-25T15:52:20.031163Z"
    }
   },
   "cell_type": "code",
   "source": [
    "import numpy as np\n",
    "from scipy import stats\n",
    "\n",
    "# Sample data (engagement time in minutes)\n",
    "sample_data = np.array([40,26,47,32,15,7])  # Example data\n",
    "\n",
    "# Performing a one-sample t-test\n",
    "t_statistic, p_value = stats.ttest_1samp(sample_data, 15)\n",
    "\n",
    "# Interpreting the result\n",
    "alpha = 0.05  # Significance level\n",
    "if p_value < alpha:\n",
    "    print(\"Reject the null hypothesis\")\n",
    "else:\n",
    "    print(\"Fail to reject the null hypothesis\")"
   ],
   "id": "99a2e3c9684dbee7",
   "outputs": [
    {
     "ename": "ModuleNotFoundError",
     "evalue": "No module named 'scipy'",
     "output_type": "error",
     "traceback": [
      "\u001B[31m---------------------------------------------------------------------------\u001B[39m",
      "\u001B[31mModuleNotFoundError\u001B[39m                       Traceback (most recent call last)",
      "\u001B[36mCell\u001B[39m\u001B[36m \u001B[39m\u001B[32mIn[30]\u001B[39m\u001B[32m, line 2\u001B[39m\n\u001B[32m      1\u001B[39m \u001B[38;5;28;01mimport\u001B[39;00m\u001B[38;5;250m \u001B[39m\u001B[34;01mnumpy\u001B[39;00m\u001B[38;5;250m \u001B[39m\u001B[38;5;28;01mas\u001B[39;00m\u001B[38;5;250m \u001B[39m\u001B[34;01mnp\u001B[39;00m\n\u001B[32m----> \u001B[39m\u001B[32m2\u001B[39m \u001B[38;5;28;01mfrom\u001B[39;00m\u001B[38;5;250m \u001B[39m\u001B[34;01mscipy\u001B[39;00m\u001B[38;5;250m \u001B[39m\u001B[38;5;28;01mimport\u001B[39;00m stats\n\u001B[32m      4\u001B[39m \u001B[38;5;66;03m# Sample data (engagement time in minutes)\u001B[39;00m\n\u001B[32m      5\u001B[39m sample_data = np.array([\u001B[32m40\u001B[39m,\u001B[32m26\u001B[39m,\u001B[32m47\u001B[39m,\u001B[32m32\u001B[39m,\u001B[32m15\u001B[39m,\u001B[32m7\u001B[39m])  \u001B[38;5;66;03m# Example data\u001B[39;00m\n",
      "\u001B[31mModuleNotFoundError\u001B[39m: No module named 'scipy'"
     ]
    }
   ],
   "execution_count": 30
  },
  {
   "metadata": {
    "ExecuteTime": {
     "end_time": "2025-09-25T16:21:00.231795Z",
     "start_time": "2025-09-25T16:21:00.227274Z"
    }
   },
   "cell_type": "code",
   "source": [
    "import numpy as np\n",
    "\n",
    "# Annual returns of the investment\n",
    "returns = np.array([0.08, 0.12, -0.05, 0.10, 0.07])\n",
    "\n",
    "# Calculating variance\n",
    "variance = np.var(returns)\n",
    "print(\"Variance of the investment returns:\", variance)"
   ],
   "id": "b42c8921d4b3d6e5",
   "outputs": [
    {
     "name": "stdout",
     "output_type": "stream",
     "text": [
      "Variance of the investment returns: 0.003544\n"
     ]
    }
   ],
   "execution_count": 31
  },
  {
   "metadata": {
    "ExecuteTime": {
     "end_time": "2025-09-25T16:28:34.689443Z",
     "start_time": "2025-09-25T16:28:34.332473Z"
    }
   },
   "cell_type": "code",
   "source": [
    "import numpy as np\n",
    "import matplotlib.pyplot as plt\n",
    "\n",
    "# Generate a normal distribution\n",
    "mean = 0\n",
    "std_dev = 1\n",
    "samples = np.random.normal(mean, std_dev, 1000)\n",
    "\n",
    "# Plotting the distribution\n",
    "plt.hist(samples, bins=30, density=True)\n",
    "plt.title(\"Normal Distribution\")\n",
    "plt.xlabel(\"Value\")\n",
    "plt.ylabel(\"Frequency\")\n",
    "plt.show()"
   ],
   "id": "87b417cb32728c92",
   "outputs": [
    {
     "data": {
      "text/plain": [
       "<Figure size 640x480 with 1 Axes>"
      ],
      "image/png": "[encoded data removed]"
     },
     "metadata": {},
     "output_type": "display_data"
    }
   ],
   "execution_count": 32
  },
  {
   "metadata": {
    "ExecuteTime": {
     "end_time": "2025-09-25T16:29:27.511931Z",
     "start_time": "2025-09-25T16:29:27.508377Z"
    }
   },
   "cell_type": "code",
   "source": [
    "# Random sampling from an array\n",
    "data = np.arange(10)\n",
    "sample = np.random.choice(data, size=5, replace=False)\n",
    "print(\"Random Sample:\", sample)"
   ],
   "id": "3a1b3de8e01d1d31",
   "outputs": [
    {
     "name": "stdout",
     "output_type": "stream",
     "text": [
      "Random Sample: [5 8 1 6 0]\n"
     ]
    }
   ],
   "execution_count": 35
  },
  {
   "metadata": {
    "ExecuteTime": {
     "end_time": "2025-09-25T16:31:17.878385Z",
     "start_time": "2025-09-25T16:31:17.874985Z"
    }
   },
   "cell_type": "code",
   "source": [
    "# Shuffling data\n",
    "np.random.shuffle(data)\n",
    "print(\"Shuffled Data:\", data)"
   ],
   "id": "c1d5c0defc9bb6ec",
   "outputs": [
    {
     "name": "stdout",
     "output_type": "stream",
     "text": [
      "Shuffled Data: [8 2 6 7 5 9 0 1 4 3]\n"
     ]
    }
   ],
   "execution_count": 39
  },
  {
   "metadata": {
    "ExecuteTime": {
     "end_time": "2025-09-25T16:31:52.828884Z",
     "start_time": "2025-09-25T16:31:52.803018Z"
    }
   },
   "cell_type": "code",
   "source": [
    "# Variance\n",
    "variance = np.var(samples)\n",
    "print(\"Variance:\", variance)\n",
    "\n",
    "# Skewness and Kurtosis require scipy\n",
    "from scipy.stats import skew, kurtosis\n",
    "print(\"Skewness:\", skew(samples))\n",
    "print(\"Kurtosis:\", kurtosis(samples))"
   ],
   "id": "f288a6167fa7d40d",
   "outputs": [
    {
     "name": "stdout",
     "output_type": "stream",
     "text": [
      "Variance: 1.0189212696471217\n"
     ]
    },
    {
     "ename": "ModuleNotFoundError",
     "evalue": "No module named 'scipy'",
     "output_type": "error",
     "traceback": [
      "\u001B[31m---------------------------------------------------------------------------\u001B[39m",
      "\u001B[31mModuleNotFoundError\u001B[39m                       Traceback (most recent call last)",
      "\u001B[36mCell\u001B[39m\u001B[36m \u001B[39m\u001B[32mIn[40]\u001B[39m\u001B[32m, line 6\u001B[39m\n\u001B[32m      3\u001B[39m \u001B[38;5;28mprint\u001B[39m(\u001B[33m\"\u001B[39m\u001B[33mVariance:\u001B[39m\u001B[33m\"\u001B[39m, variance)\n\u001B[32m      5\u001B[39m \u001B[38;5;66;03m# Skewness and Kurtosis require scipy\u001B[39;00m\n\u001B[32m----> \u001B[39m\u001B[32m6\u001B[39m \u001B[38;5;28;01mfrom\u001B[39;00m\u001B[38;5;250m \u001B[39m\u001B[34;01mscipy\u001B[39;00m\u001B[34;01m.\u001B[39;00m\u001B[34;01mstats\u001B[39;00m\u001B[38;5;250m \u001B[39m\u001B[38;5;28;01mimport\u001B[39;00m skew, kurtosis\n\u001B[32m      7\u001B[39m \u001B[38;5;28mprint\u001B[39m(\u001B[33m\"\u001B[39m\u001B[33mSkewness:\u001B[39m\u001B[33m\"\u001B[39m, skew(samples))\n\u001B[32m      8\u001B[39m \u001B[38;5;28mprint\u001B[39m(\u001B[33m\"\u001B[39m\u001B[33mKurtosis:\u001B[39m\u001B[33m\"\u001B[39m, kurtosis(samples))\n",
      "\u001B[31mModuleNotFoundError\u001B[39m: No module named 'scipy'"
     ]
    }
   ],
   "execution_count": 40
  },
  {
   "metadata": {
    "ExecuteTime": {
     "end_time": "2025-09-25T16:34:13.929120Z",
     "start_time": "2025-09-25T16:34:13.925038Z"
    }
   },
   "cell_type": "code",
   "source": [
    "import numpy as np\n",
    "\n",
    "# Creating date ranges\n",
    "dates = np.arange('2020-01', '2020-02', dtype='datetime64[D]')\n",
    "print(\"January 2020 Dates:\\n\", dates)"
   ],
   "id": "ac59ff3c77e03f90",
   "outputs": [
    {
     "name": "stdout",
     "output_type": "stream",
     "text": [
      "January 2020 Dates:\n",
      " ['2020-01-01' '2020-01-02' '2020-01-03' '2020-01-04' '2020-01-05'\n",
      " '2020-01-06' '2020-01-07' '2020-01-08' '2020-01-09' '2020-01-10'\n",
      " '2020-01-11' '2020-01-12' '2020-01-13' '2020-01-14' '2020-01-15'\n",
      " '2020-01-16' '2020-01-17' '2020-01-18' '2020-01-19' '2020-01-20'\n",
      " '2020-01-21' '2020-01-22' '2020-01-23' '2020-01-24' '2020-01-25'\n",
      " '2020-01-26' '2020-01-27' '2020-01-28' '2020-01-29' '2020-01-30'\n",
      " '2020-01-31']\n"
     ]
    }
   ],
   "execution_count": 41
  },
  {
   "metadata": {
    "ExecuteTime": {
     "end_time": "2025-09-25T16:34:54.981900Z",
     "start_time": "2025-09-25T16:34:54.978884Z"
    }
   },
   "cell_type": "code",
   "source": [
    "# Converting dates to a different format\n",
    "formatted_dates = np.datetime_as_string(dates, unit='D')\n",
    "print(\"Formatted Dates:\\n\", formatted_dates)"
   ],
   "id": "ac75cd78df2c3740",
   "outputs": [
    {
     "name": "stdout",
     "output_type": "stream",
     "text": [
      "Formatted Dates:\n",
      " ['2020-01-01' '2020-01-02' '2020-01-03' '2020-01-04' '2020-01-05'\n",
      " '2020-01-06' '2020-01-07' '2020-01-08' '2020-01-09' '2020-01-10'\n",
      " '2020-01-11' '2020-01-12' '2020-01-13' '2020-01-14' '2020-01-15'\n",
      " '2020-01-16' '2020-01-17' '2020-01-18' '2020-01-19' '2020-01-20'\n",
      " '2020-01-21' '2020-01-22' '2020-01-23' '2020-01-24' '2020-01-25'\n",
      " '2020-01-26' '2020-01-27' '2020-01-28' '2020-01-29' '2020-01-30'\n",
      " '2020-01-31']\n"
     ]
    }
   ],
   "execution_count": 42
  },
  {
   "metadata": {
    "ExecuteTime": {
     "end_time": "2025-09-25T16:43:24.933265Z",
     "start_time": "2025-09-25T16:43:24.928043Z"
    }
   },
   "cell_type": "code",
   "source": [
    "import pandas as pd\n",
    "\n",
    "# Example: Using rolling statistics\n",
    "ts_data = pd.Series(np.random.randn(100), index=pd.date_range('today', periods=100))\n",
    "rolling_mean = ts_data.rolling(window=5).mean()\n",
    "print(\"Rolling Mean:\\n\", rolling_mean)\n",
    "print(len(rolling_mean))\n",
    "print(ts_data.head(5).mean())\n",
    "print(rolling_mean.head(9))\n"
   ],
   "id": "36f7d8d9f19137e8",
   "outputs": [
    {
     "name": "stdout",
     "output_type": "stream",
     "text": [
      "Rolling Mean:\n",
      " 2025-09-25 18:43:24.929774         NaN\n",
      "2025-09-26 18:43:24.929774         NaN\n",
      "2025-09-27 18:43:24.929774         NaN\n",
      "2025-09-28 18:43:24.929774         NaN\n",
      "2025-09-29 18:43:24.929774    0.156984\n",
      "                                ...   \n",
      "2025-12-29 18:43:24.929774   -0.388113\n",
      "2025-12-30 18:43:24.929774   -0.409966\n",
      "2025-12-31 18:43:24.929774   -0.232811\n",
      "2026-01-01 18:43:24.929774   -0.664396\n",
      "2026-01-02 18:43:24.929774   -0.393939\n",
      "Freq: D, Length: 100, dtype: float64\n",
      "100\n",
      "0.15698426159039464\n",
      "2025-09-25 18:43:24.929774         NaN\n",
      "2025-09-26 18:43:24.929774         NaN\n",
      "2025-09-27 18:43:24.929774         NaN\n",
      "2025-09-28 18:43:24.929774         NaN\n",
      "2025-09-29 18:43:24.929774    0.156984\n",
      "2025-09-30 18:43:24.929774    0.131945\n",
      "2025-10-01 18:43:24.929774    0.003694\n",
      "2025-10-02 18:43:24.929774   -0.229017\n",
      "2025-10-03 18:43:24.929774   -0.021806\n",
      "Freq: D, dtype: float64\n"
     ]
    }
   ],
   "execution_count": 51
  },
  {
   "metadata": {
    "ExecuteTime": {
     "end_time": "2025-09-25T16:40:25.508757Z",
     "start_time": "2025-09-25T16:40:25.506116Z"
    }
   },
   "cell_type": "code",
   "source": [
    "# Example: Applying a window function\n",
    "window_sum = ts_data.rolling(window=5).sum()\n",
    "print(\"Window Sum:\\n\", window_sum)"
   ],
   "id": "5c53461b8c4f57fc",
   "outputs": [
    {
     "name": "stdout",
     "output_type": "stream",
     "text": [
      "Window Sum:\n",
      " 2025-09-25 18:39:39.237145         NaN\n",
      "2025-09-26 18:39:39.237145         NaN\n",
      "2025-09-27 18:39:39.237145         NaN\n",
      "2025-09-28 18:39:39.237145         NaN\n",
      "2025-09-29 18:39:39.237145   -0.466132\n",
      "                                ...   \n",
      "2025-12-29 18:39:39.237145    1.149156\n",
      "2025-12-30 18:39:39.237145    0.494433\n",
      "2025-12-31 18:39:39.237145    2.409105\n",
      "2026-01-01 18:39:39.237145    2.256529\n",
      "2026-01-02 18:39:39.237145    0.593731\n",
      "Freq: D, Length: 100, dtype: float64\n"
     ]
    }
   ],
   "execution_count": 45
  },
  {
   "metadata": {},
   "cell_type": "code",
   "outputs": [],
   "execution_count": null,
   "source": "",
   "id": "275dc1dbb0b0620d"
  },
  {
   "metadata": {
    "ExecuteTime": {
     "end_time": "2025-09-25T16:46:53.885810Z",
     "start_time": "2025-09-25T16:46:53.881816Z"
    }
   },
   "cell_type": "code",
   "source": [
    "# Calculating simple moving average\n",
    "sma = ts_data.rolling(window=5).mean()\n",
    "print(\"Simple Moving Average:\\n\", sma)"
   ],
   "id": "9d28192e8df74357",
   "outputs": [
    {
     "name": "stdout",
     "output_type": "stream",
     "text": [
      "Simple Moving Average:\n",
      " 2025-09-25 18:43:24.929774         NaN\n",
      "2025-09-26 18:43:24.929774         NaN\n",
      "2025-09-27 18:43:24.929774         NaN\n",
      "2025-09-28 18:43:24.929774         NaN\n",
      "2025-09-29 18:43:24.929774    0.156984\n",
      "                                ...   \n",
      "2025-12-29 18:43:24.929774   -0.388113\n",
      "2025-12-30 18:43:24.929774   -0.409966\n",
      "2025-12-31 18:43:24.929774   -0.232811\n",
      "2026-01-01 18:43:24.929774   -0.664396\n",
      "2026-01-02 18:43:24.929774   -0.393939\n",
      "Freq: D, Length: 100, dtype: float64\n"
     ]
    }
   ],
   "execution_count": 52
  },
  {
   "metadata": {
    "ExecuteTime": {
     "end_time": "2025-09-25T16:51:33.773117Z",
     "start_time": "2025-09-25T16:51:33.758104Z"
    }
   },
   "cell_type": "code",
   "source": [
    "import numpy as np\n",
    "import pandas as pd\n",
    "import time\n",
    "\n",
    "# Creating a large DataFrame\n",
    "data = pd.DataFrame(np.random.rand(100000, 4), columns=['A', 'B', 'C', 'D'])\n",
    "\n",
    "# Timing Pandas operations\n",
    "start_time = time.time()\n",
    "result_pandas = data[(data['A'] > 0.5) & (data['B'] < 0.5)].mean()\n",
    "end_time = time.time()\n",
    "print(\"Pandas Conditional Mean:\\n\", result_pandas)\n",
    "print(\"Pandas Operation Time: {:.5f} seconds\".format(end_time - start_time))\n",
    "\n",
    "# Timing equivalent NumPy operations\n",
    "numpy_data = data.to_numpy()\n",
    "start_time = time.time()\n",
    "result_numpy = np.mean(numpy_data[(numpy_data[:, 0] > 0.5) & (numpy_data[:, 1] < 0.5)], axis=0)\n",
    "end_time = time.time()\n",
    "print(\"NumPy Conditional Mean:\\n\", result_numpy)\n",
    "print(\"NumPy Operation Time: {:.5f} seconds\".format(end_time - start_time))"
   ],
   "id": "55eaa13254dced6b",
   "outputs": [
    {
     "name": "stdout",
     "output_type": "stream",
     "text": [
      "Pandas Conditional Mean:\n",
      " A    0.749986\n",
      "B    0.249919\n",
      "C    0.500917\n",
      "D    0.499828\n",
      "dtype: float64\n",
      "Pandas Operation Time: 0.00279 seconds\n",
      "NumPy Conditional Mean:\n",
      " [0.74998556 0.24991901 0.50091743 0.49982805]\n",
      "NumPy Operation Time: 0.00223 seconds\n"
     ]
    }
   ],
   "execution_count": 55
  },
  {
   "metadata": {
    "ExecuteTime": {
     "end_time": "2025-09-25T16:51:40.537386Z",
     "start_time": "2025-09-25T16:51:40.416309Z"
    }
   },
   "cell_type": "code",
   "source": [
    "import matplotlib.pyplot as plt\n",
    "\n",
    "# Plotting with NumPy arrays\n",
    "plt.scatter(data['A'], data['B'], alpha=0.5)\n",
    "plt.title(\"Custom Scatter Plot\")\n",
    "plt.xlabel(\"A\")\n",
    "plt.ylabel(\"B\")\n",
    "plt.show()"
   ],
   "id": "637f49cab3bbe842",
   "outputs": [
    {
     "data": {
      "text/plain": [
       "<Figure size 640x480 with 1 Axes>"
      ],
      "image/png": "[encoded data removed]"
     },
     "metadata": {},
     "output_type": "display_data"
    }
   ],
   "execution_count": 56
  }
 ],
 "metadata": {
  "kernelspec": {
   "display_name": "Python 3",
   "language": "python",
   "name": "python3"
  },
  "language_info": {
   "codemirror_mode": {
    "name": "ipython",
    "version": 2
   },
   "file_extension": ".py",
   "mimetype": "text/x-python",
   "name": "python",
   "nbconvert_exporter": "python",
   "pygments_lexer": "ipython2",
   "version": "2.7.6"
  }
 },
 "nbformat": 4,
 "nbformat_minor": 5
}
