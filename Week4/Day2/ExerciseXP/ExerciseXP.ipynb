{
 "cells": [
  {
   "cell_type": "markdown",
   "id": "14d9f701",
   "metadata": {},
   "source": [
    "Exercise 1 : Matrix Operations"
   ]
  },
  {
   "cell_type": "code",
   "execution_count": 29,
   "id": "282b9ab4",
   "metadata": {},
   "outputs": [],
   "source": [
    "import numpy as np\n",
    "array1 = [[1, -6, 9],\n",
    "          [4, 2, 5],\n",
    "          [1, 3, 8]]\n"
   ]
  },
  {
   "cell_type": "code",
   "execution_count": 27,
   "id": "b283569d",
   "metadata": {},
   "outputs": [
    {
     "name": "stdout",
     "output_type": "stream",
     "text": [
      "Determinant: 253\n"
     ]
    }
   ],
   "source": [
    "det = round(np.linalg.det(array1))\n",
    "print(\"Determinant:\",det)"
   ]
  },
  {
   "cell_type": "code",
   "execution_count": 28,
   "id": "928f911d",
   "metadata": {},
   "outputs": [
    {
     "name": "stdout",
     "output_type": "stream",
     "text": [
      "Inverse:\n",
      " [[ 0.00395257  0.29644269 -0.18972332]\n",
      " [-0.10671937 -0.00395257  0.12252964]\n",
      " [ 0.03952569 -0.03557312  0.1027668 ]]\n"
     ]
    }
   ],
   "source": [
    "array1_inv = np.linalg.inv(array1)\n",
    "print(\"Inverse:\\n\", array1_inv)\n"
   ]
  },
  {
   "cell_type": "markdown",
   "id": "368886b4",
   "metadata": {},
   "source": [
    "Exercise 2 : Statistical Analysis"
   ]
  },
  {
   "cell_type": "code",
   "execution_count": 48,
   "id": "91f40097",
   "metadata": {},
   "outputs": [
    {
     "name": "stdout",
     "output_type": "stream",
     "text": [
      "[15 33 77 46 73 28 89 94 87 49 87 59 97 16 59 73 57 88 87 86 29 98 44 68\n",
      " 44 31 48 55 22 25 37 99 18 35 41 27 37 30 58 42 93 31 22 51 17 72 25 41\n",
      "  4 95]\n",
      "Mean: 52.78\n",
      "Median: 47.0\n"
     ]
    }
   ],
   "source": [
    "from numpy import random\n",
    "random_array = random.randint(100,size = 50)\n",
    "print(random_array)\n",
    "print(\"Mean:\", random_array.mean())\n",
    "print(\"Median:\",np.median(random_array))\n",
    "\n"
   ]
  },
  {
   "cell_type": "markdown",
   "id": "d2b5f808",
   "metadata": {},
   "source": [
    "Exercise 3 : Date Manipulation"
   ]
  },
  {
   "cell_type": "code",
   "execution_count": 51,
   "id": "99e0a352",
   "metadata": {},
   "outputs": [
    {
     "name": "stdout",
     "output_type": "stream",
     "text": [
      "January 2023 Dates:\n",
      " ['2023-01-01' '2023-01-02' '2023-01-03' '2023-01-04' '2023-01-05'\n",
      " '2023-01-06' '2023-01-07' '2023-01-08' '2023-01-09' '2023-01-10'\n",
      " '2023-01-11' '2023-01-12' '2023-01-13' '2023-01-14' '2023-01-15'\n",
      " '2023-01-16' '2023-01-17' '2023-01-18' '2023-01-19' '2023-01-20'\n",
      " '2023-01-21' '2023-01-22' '2023-01-23' '2023-01-24' '2023-01-25'\n",
      " '2023-01-26' '2023-01-27' '2023-01-28' '2023-01-29' '2023-01-30'\n",
      " '2023-01-31']\n"
     ]
    }
   ],
   "source": [
    "import numpy as np\n",
    "\n",
    "dates = np.arange('2023-01','2023-02', dtype='datetime64[D]')\n",
    "print(\"January 2023 Dates:\\n\", dates)"
   ]
  },
  {
   "cell_type": "code",
   "execution_count": 63,
   "id": "83ffc322",
   "metadata": {},
   "outputs": [
    {
     "data": {
      "text/plain": [
       "['01.01.2023',\n",
       " '02.01.2023',\n",
       " '03.01.2023',\n",
       " '04.01.2023',\n",
       " '05.01.2023',\n",
       " '06.01.2023',\n",
       " '07.01.2023',\n",
       " '08.01.2023',\n",
       " '09.01.2023',\n",
       " '10.01.2023',\n",
       " '11.01.2023',\n",
       " '12.01.2023',\n",
       " '13.01.2023',\n",
       " '14.01.2023',\n",
       " '15.01.2023',\n",
       " '16.01.2023',\n",
       " '17.01.2023',\n",
       " '18.01.2023',\n",
       " '19.01.2023',\n",
       " '20.01.2023',\n",
       " '21.01.2023',\n",
       " '22.01.2023',\n",
       " '23.01.2023',\n",
       " '24.01.2023',\n",
       " '25.01.2023',\n",
       " '26.01.2023',\n",
       " '27.01.2023',\n",
       " '28.01.2023',\n",
       " '29.01.2023',\n",
       " '30.01.2023',\n",
       " '31.01.2023']"
      ]
     },
     "execution_count": 63,
     "metadata": {},
     "output_type": "execute_result"
    }
   ],
   "source": [
    "import pandas as pd\n",
    "import numpy as np\n",
    "\n",
    "pd.to_datetime(dates).strftime('%d.%m.%Y').tolist()"
   ]
  },
  {
   "cell_type": "markdown",
   "id": "2fd235c4",
   "metadata": {},
   "source": [
    "Exercise 4 : Data Manipulation with NumPy and Pandas"
   ]
  },
  {
   "cell_type": "code",
   "execution_count": 82,
   "id": "29c0ef32",
   "metadata": {},
   "outputs": [],
   "source": [
    "random_numbers = np.random.randint(50,size = 25)\n",
    "num_df = pd.DataFrame(random_numbers, columns =[\"my_numbers\"])\n",
    "\n"
   ]
  },
  {
   "cell_type": "code",
   "execution_count": 89,
   "id": "6f5751a1",
   "metadata": {},
   "outputs": [
    {
     "name": "stdout",
     "output_type": "stream",
     "text": [
      "Sum: 629\n",
      "Mean: 25.16\n"
     ]
    },
    {
     "data": {
      "text/html": [
       "<div>\n",
       "<style scoped>\n",
       "    .dataframe tbody tr th:only-of-type {\n",
       "        vertical-align: middle;\n",
       "    }\n",
       "\n",
       "    .dataframe tbody tr th {\n",
       "        vertical-align: top;\n",
       "    }\n",
       "\n",
       "    .dataframe thead th {\n",
       "        text-align: right;\n",
       "    }\n",
       "</style>\n",
       "<table border=\"1\" class=\"dataframe\">\n",
       "  <thead>\n",
       "    <tr style=\"text-align: right;\">\n",
       "      <th></th>\n",
       "      <th>my_numbers</th>\n",
       "    </tr>\n",
       "  </thead>\n",
       "  <tbody>\n",
       "    <tr>\n",
       "      <th>0</th>\n",
       "      <td>47</td>\n",
       "    </tr>\n",
       "    <tr>\n",
       "      <th>2</th>\n",
       "      <td>40</td>\n",
       "    </tr>\n",
       "    <tr>\n",
       "      <th>3</th>\n",
       "      <td>42</td>\n",
       "    </tr>\n",
       "    <tr>\n",
       "      <th>4</th>\n",
       "      <td>35</td>\n",
       "    </tr>\n",
       "    <tr>\n",
       "      <th>7</th>\n",
       "      <td>44</td>\n",
       "    </tr>\n",
       "    <tr>\n",
       "      <th>8</th>\n",
       "      <td>35</td>\n",
       "    </tr>\n",
       "    <tr>\n",
       "      <th>12</th>\n",
       "      <td>29</td>\n",
       "    </tr>\n",
       "    <tr>\n",
       "      <th>15</th>\n",
       "      <td>39</td>\n",
       "    </tr>\n",
       "    <tr>\n",
       "      <th>16</th>\n",
       "      <td>49</td>\n",
       "    </tr>\n",
       "    <tr>\n",
       "      <th>17</th>\n",
       "      <td>32</td>\n",
       "    </tr>\n",
       "    <tr>\n",
       "      <th>18</th>\n",
       "      <td>49</td>\n",
       "    </tr>\n",
       "    <tr>\n",
       "      <th>19</th>\n",
       "      <td>28</td>\n",
       "    </tr>\n",
       "    <tr>\n",
       "      <th>21</th>\n",
       "      <td>28</td>\n",
       "    </tr>\n",
       "  </tbody>\n",
       "</table>\n",
       "</div>"
      ],
      "text/plain": [
       "    my_numbers\n",
       "0           47\n",
       "2           40\n",
       "3           42\n",
       "4           35\n",
       "7           44\n",
       "8           35\n",
       "12          29\n",
       "15          39\n",
       "16          49\n",
       "17          32\n",
       "18          49\n",
       "19          28\n",
       "21          28"
      ]
     },
     "execution_count": 89,
     "metadata": {},
     "output_type": "execute_result"
    }
   ],
   "source": [
    "import numpy as np\n",
    "new_num = num_df[num_df[\"my_numbers\"] > 20]\n",
    "total= num_df[\"my_numbers\"].sum() \n",
    "average = num_df[\"my_numbers\"].mean() \n",
    "print(\"Sum:\",total)\n",
    "print(\"Mean:\",average)\n",
    "\n",
    "new_num"
   ]
  },
  {
   "cell_type": "markdown",
   "id": "c1d864aa",
   "metadata": {},
   "source": [
    "Exercise 5 : Image Representation"
   ]
  },
  {
   "cell_type": "code",
   "execution_count": null,
   "id": "1aa4a531",
   "metadata": {},
   "outputs": [],
   "source": [
    "import numpy as np\n",
    "import matplotlib.pyplot as plt\n",
    "image = np.random.randint(0, 256, size=(5, 5))\n",
    "\n"
   ]
  }
 ],
 "metadata": {
  "kernelspec": {
   "display_name": ".venv",
   "language": "python",
   "name": "python3"
  },
  "language_info": {
   "codemirror_mode": {
    "name": "ipython",
    "version": 3
   },
   "file_extension": ".py",
   "mimetype": "text/x-python",
   "name": "python",
   "nbconvert_exporter": "python",
   "pygments_lexer": "ipython3",
   "version": "3.11.9"
  }
 },
 "nbformat": 4,
 "nbformat_minor": 5
}
