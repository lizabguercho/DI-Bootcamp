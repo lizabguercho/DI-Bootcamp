{
 "cells": [
  {
   "cell_type": "code",
   "execution_count": 39,
   "id": "0d961cad",
   "metadata": {},
   "outputs": [],
   "source": [
    "import requests\n",
    "from bs4 import BeautifulSoup\n",
    "import pandas as pd"
   ]
  },
  {
   "cell_type": "code",
   "execution_count": null,
   "id": "4e63a4ed",
   "metadata": {},
   "outputs": [],
   "source": [
    "# fetch the GTML content of teh website\n",
    "url ='https://github.com/topics'\n",
    "response = requests.get(url)\n"
   ]
  },
  {
   "cell_type": "code",
   "execution_count": 20,
   "id": "fdafa507",
   "metadata": {},
   "outputs": [
    {
     "name": "stdout",
     "output_type": "stream",
     "text": [
      "Status code: 200\n"
     ]
    }
   ],
   "source": [
    "# status code\n",
    "print(\"Status code:\", response.status_code)\n"
   ]
  },
  {
   "cell_type": "code",
   "execution_count": 22,
   "id": "aba64eac",
   "metadata": {},
   "outputs": [
    {
     "name": "stdout",
     "output_type": "stream",
     "text": [
      "First 100 characters: \n",
      "\n",
      "<!DOCTYPE html>\n",
      "<html\n",
      "  lang=\"en\"\n",
      "  \n",
      "  data-color-mode=\"auto\" data-light-theme=\"light\" data-dark-t\n"
     ]
    }
   ],
   "source": [
    "# first 100 characters of the HTML content\n",
    "print(\"First 100 characters:\",response.text[:100])"
   ]
  },
  {
   "cell_type": "code",
   "execution_count": 25,
   "id": "08d5eb02",
   "metadata": {},
   "outputs": [
    {
     "name": "stdout",
     "output_type": "stream",
     "text": [
      "HTML content saved to 'webpage1.html'\n"
     ]
    }
   ],
   "source": [
    "# save HTML content to the file \n",
    "with open(\"webpage1.html\", \"w\", encoding=\"utf-8\") as file:\n",
    "        file.write(response.text)\n",
    "print(\"HTML content saved to 'webpage1.html'\")"
   ]
  },
  {
   "cell_type": "code",
   "execution_count": 26,
   "id": "96f132e2",
   "metadata": {},
   "outputs": [],
   "source": [
    "# Parse saved HTML content\n",
    "with open(\"webpage1.html\", \"r\", encoding=\"utf-8\") as file:\n",
    "    soup = BeautifulSoup(file, 'html.parser')\n"
   ]
  },
  {
   "cell_type": "code",
   "execution_count": 27,
   "id": "dd21d1e8",
   "metadata": {},
   "outputs": [],
   "source": [
    "# Identify two distinct pieces of information - titles and descriptions\n",
    "titles = soup.find_all(\"p\",class_=\"f3 lh-condensed text-center Link--primary mb-0 mt-1\")\n",
    "descriptions = soup.find_all(\"p\",class_=\"f5 color-fg-muted text-center mb-0 mt-1\")\n",
    "      "
   ]
  },
  {
   "cell_type": "code",
   "execution_count": 32,
   "id": "0d4ec950",
   "metadata": {},
   "outputs": [],
   "source": [
    "#extract text\n",
    "titles_list = [t.text.strip() for t in titles]\n",
    "descriptions_list = [d.text.strip() for d in descriptions]"
   ]
  },
  {
   "cell_type": "code",
   "execution_count": null,
   "id": "4ada7fde",
   "metadata": {},
   "outputs": [
    {
     "name": "stdout",
     "output_type": "stream",
     "text": [
      "Number of titles:  3\n",
      "Content:  ['React Native', 'npm', 'TypeScript']\n",
      "\n",
      "Number of Descriptions:  3\n",
      "Content:  ['React Native is a JavaScript mobile framework developed by Facebook.', 'npm is a package manager for JavaScript included with Node.js.', 'TypeScript is a typed superset of JavaScript that compiles to plain JavaScript.']\n"
     ]
    }
   ],
   "source": [
    "# Print the length and content of each extracted list\n",
    "print(\"Number of titles: \",len(titles_list))\n",
    "print(\"Content: \",titles_list)\n",
    "\n",
    "print(\"\\nNumber of Descriptions: \",len(descriptions_list))\n",
    "print(\"Content: \",descriptions_list)\n"
   ]
  },
  {
   "cell_type": "code",
   "execution_count": 38,
   "id": "6a952b7a",
   "metadata": {},
   "outputs": [],
   "source": [
    "# Create python dictionary\n",
    "data = {\n",
    "    \"Title\":titles_list,\n",
    "    \"Description\":descriptions_list\n",
    "}"
   ]
  },
  {
   "cell_type": "code",
   "execution_count": 41,
   "id": "b37fe8cf",
   "metadata": {},
   "outputs": [
    {
     "name": "stdout",
     "output_type": "stream",
     "text": [
      "          Title                                        Description\n",
      "0  React Native  React Native is a JavaScript mobile framework ...\n",
      "1           npm  npm is a package manager for JavaScript includ...\n",
      "2    TypeScript  TypeScript is a typed superset of JavaScript t...\n"
     ]
    }
   ],
   "source": [
    "# convert to Pandas DataFrame\n",
    "data = pd.DataFrame(data)\n",
    "print(data)"
   ]
  },
  {
   "cell_type": "code",
   "execution_count": null,
   "id": "54e98756",
   "metadata": {},
   "outputs": [],
   "source": []
  }
 ],
 "metadata": {
  "kernelspec": {
   "display_name": ".venv",
   "language": "python",
   "name": "python3"
  },
  "language_info": {
   "codemirror_mode": {
    "name": "ipython",
    "version": 3
   },
   "file_extension": ".py",
   "mimetype": "text/x-python",
   "name": "python",
   "nbconvert_exporter": "python",
   "pygments_lexer": "ipython3",
   "version": "3.11.9"
  }
 },
 "nbformat": 4,
 "nbformat_minor": 5
}
