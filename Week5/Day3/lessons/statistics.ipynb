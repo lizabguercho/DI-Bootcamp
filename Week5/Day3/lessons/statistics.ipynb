{
 "cells": [
  {
   "cell_type": "markdown",
   "id": "63ed2426",
   "metadata": {},
   "source": [
    "## Hypothesis testing for feature significance\n",
    "Score = a(hours) + b(attendence) + c(prev_score) + number                    # X- hours of studying\n",
    "\n"
   ]
  },
  {
   "cell_type": "code",
   "execution_count": null,
   "id": "0433493f",
   "metadata": {},
   "outputs": [],
   "source": [
    "## Hypothesis testing fir feature significance\n"
   ]
  }
 ],
 "metadata": {
  "language_info": {
   "name": "python"
  }
 },
 "nbformat": 4,
 "nbformat_minor": 5
}
