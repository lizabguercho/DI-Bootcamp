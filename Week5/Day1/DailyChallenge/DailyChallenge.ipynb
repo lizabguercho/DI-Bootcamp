{
 "cells": [
  {
   "cell_type": "markdown",
   "id": "803ed46f",
   "metadata": {},
   "source": [
    "\n",
    "Machine Learning (ML) is a field of artificial intelligence that enables computers to learn patterns from data and make predictions or decisions without being explicitly programmed.\n",
    "\n",
    "For data analysts, ML is important because it allows them to go beyond descriptive statistics and uncover deeper insights, predict future outcomes, and automate decision-making. This improves efficiency, accuracy, and the ability to handle large datasets that would be difficult to analyze manually.\n",
    "\n",
    "### Applications of Machine Learning Across Industries\n",
    "\n",
    "1) Healthcare – Predicting patient readmissions, diagnosing diseases from medical images, or personalizing treatment recommendations.\n",
    "\n",
    "2) Finance – Fraud detection in credit card transactions, predicting loan defaults, and automated trading.\n",
    "\n",
    "3) Retail & E-Commerce – Recommender systems (e.g., “customers who bought this also bought…”), demand forecasting, and personalized marketing.\n",
    "\n",
    "### Three types of Machine Learning: \n",
    "\n",
    "1) Supervised Learning - Models are trained on labeled data.\n",
    "\n",
    "Example: Identifying cat pictures among batch of provided pictures.\n",
    "\n",
    "2) Unsupervised Learning - Models find patterns in unlabeled data.\n",
    "\n",
    "Example: Grouping patients based on their symptoms into clusters, which may later help doctors discover or distinguish different diseases.\n",
    "\n",
    "3) Reinforcement Learning - An agent learns by interacting with an environment, receiving rewards for good actions and penalties for poor ones.\n",
    "\n",
    "Example: A robot learns to walk by trying different movements and receiving rewards when it stays balanced.\n",
    "\n",
    "\n",
    "\n",
    "### Process of Developing a Machine Learning Model \n",
    "\n",
    "Thera are three important stages:\n",
    "\n",
    "1) Feature Selection\n",
    "\n",
    "Choosing the most relevant variables from the dataset that strongly influence the outcome.\n",
    "\n",
    "Example: In predicting house prices, features like square footage, number of bedrooms, and location are important than number of bathrooms\n",
    "\n",
    "2) Model Selection\n",
    "\n",
    "Deciding which algorithm is best suited for the problem (e.g., linear regression, decision trees, clustering algorithms).\n",
    "\n",
    "Example: For predicting continuous values, regression models are suitable; for classifying categories, classification algorithms like logistic regression or random forests are better.\n",
    "\n",
    "3) Model Evaluation\n",
    "\n",
    "Assessing how well the model performs using metrics (e.g., accuracy, precision, recall, F1-score for classification; RMSE for regression).\n",
    "Techniques like cross-validation or test sets are used to ensure the model generalizes well to unseen data."
   ]
  },
  {
   "cell_type": "markdown",
   "id": "c2fd463b",
   "metadata": {},
   "source": []
  }
 ],
 "metadata": {
  "language_info": {
   "name": "python"
  }
 },
 "nbformat": 4,
 "nbformat_minor": 5
}
