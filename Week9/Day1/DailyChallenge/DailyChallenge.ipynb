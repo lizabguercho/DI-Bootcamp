{
 "cells": [
  {
   "cell_type": "code",
   "execution_count": 1,
   "id": "65d4fe57",
   "metadata": {},
   "outputs": [],
   "source": [
    "from statsmodels.stats.power import TTestIndPower"
   ]
  },
  {
   "cell_type": "markdown",
   "id": "e8f4f578",
   "metadata": {},
   "source": [
    "Calculating reqquired sample size per group according to an effect size"
   ]
  },
  {
   "cell_type": "code",
   "execution_count": 15,
   "id": "c3d09f9b",
   "metadata": {},
   "outputs": [
    {
     "name": "stdout",
     "output_type": "stream",
     "text": [
      "Required sample size: 393.41\n"
     ]
    }
   ],
   "source": [
    "effect_size = 0.2\n",
    "alpha = 0.05\n",
    "power = 0.8\n",
    "analysis = TTestIndPower()\n",
    "sample_size = analysis.solve_power(effect_size=effect_size,alpha=alpha,power=power)\n",
    "print(f\"Required sample size: {sample_size:.2f}\")"
   ]
  },
  {
   "cell_type": "code",
   "execution_count": 16,
   "id": "1b2d942f",
   "metadata": {},
   "outputs": [
    {
     "name": "stdout",
     "output_type": "stream",
     "text": [
      "Required sample size: 1570.73\n"
     ]
    }
   ],
   "source": [
    "#1.  Conditions: effect_size = 0.1\n",
    "effect_size = 0.1\n",
    "alpha = 0.05\n",
    "power = 0.8\n",
    "analysis2 = TTestIndPower()\n",
    "sample_size2 = analysis.solve_power(effect_size=effect_size,alpha=alpha,power=power)\n",
    "print(f\"Required sample size: {sample_size2:.2f}\")"
   ]
  },
  {
   "cell_type": "code",
   "execution_count": 17,
   "id": "aafe4df6",
   "metadata": {},
   "outputs": [
    {
     "name": "stdout",
     "output_type": "stream",
     "text": [
      "Required sample size: 393.41\n"
     ]
    }
   ],
   "source": [
    "#2.  Conditions: effect_size = 0.2\n",
    "effect_size = 0.2\n",
    "alpha = 0.05\n",
    "power = 0.8\n",
    "analysis3 = TTestIndPower()\n",
    "sample_size3 = analysis.solve_power(effect_size=effect_size,alpha=alpha,power=power)\n",
    "print(f\"Required sample size: {sample_size3:.2f}\")"
   ]
  },
  {
   "cell_type": "code",
   "execution_count": 18,
   "id": "b20fb161",
   "metadata": {},
   "outputs": [
    {
     "name": "stdout",
     "output_type": "stream",
     "text": [
      "Required sample size: 175.38\n"
     ]
    }
   ],
   "source": [
    "#3.  Conditions: effect_size = 0.3\n",
    "effect_size = 0.3\n",
    "alpha = 0.05\n",
    "power = 0.8\n",
    "analysis4 = TTestIndPower()\n",
    "sample_size4 = analysis.solve_power(effect_size=effect_size,alpha=alpha,power=power)\n",
    "print(f\"Required sample size: {sample_size4:.2f}\")"
   ]
  },
  {
   "cell_type": "code",
   "execution_count": 19,
   "id": "92836b1a",
   "metadata": {},
   "outputs": [
    {
     "name": "stdout",
     "output_type": "stream",
     "text": [
      "Required sample size: 99.08\n"
     ]
    }
   ],
   "source": [
    "#4.  Conditions: effect_size = 0.4\n",
    "effect_size = 0.4\n",
    "alpha = 0.05\n",
    "power = 0.8\n",
    "analysis5 = TTestIndPower()\n",
    "sample_size5 = analysis.solve_power(effect_size=effect_size,alpha=alpha,power=power)\n",
    "print(f\"Required sample size: {sample_size5:.2f}\")"
   ]
  },
  {
   "cell_type": "code",
   "execution_count": 27,
   "id": "7ea3f7c4",
   "metadata": {},
   "outputs": [],
   "source": [
    "list_sample_sizes = [sample_size2,sample_size3,sample_size4,sample_size5]\n",
    "effect_sizes = [0.1,0.2,0.3,0.4]\n"
   ]
  },
  {
   "cell_type": "code",
   "execution_count": 26,
   "id": "9bb48856",
   "metadata": {},
   "outputs": [
    {
     "name": "stdout",
     "output_type": "stream",
     "text": [
      "Results:\n",
      "\n",
      "Effect_size: 0.1\n",
      "Required sample size: 1570.73\n",
      "\n",
      "Effect_size: 0.2\n",
      "Required sample size: 393.41\n",
      "\n",
      "Effect_size: 0.3\n",
      "Required sample size: 175.38\n",
      "\n",
      "Effect_size: 0.4\n",
      "Required sample size: 99.08\n",
      "\n"
     ]
    }
   ],
   "source": [
    "print(\"Results:\\n\")\n",
    "for effect,sample_size in zip(effect_sizes,list_sample_sizes):\n",
    "    print(f\"Effect_size: {effect}\") \n",
    "    print(f\"Required sample size: {sample_size:.2f}\\n\")"
   ]
  },
  {
   "cell_type": "markdown",
   "id": "6a8197e1",
   "metadata": {},
   "source": [
    "Conclusion: With bigger effect size we need a smaller sample size because it's easy to detect bigger changes."
   ]
  },
  {
   "cell_type": "markdown",
   "id": "d3d53238",
   "metadata": {},
   "source": [
    "- Message to my bakery team: \n",
    "\n",
    "\"Big recipe changes are easy to spot with fewer customers.\n",
    "Small recipe tweaks need more tasters to be sure.\n",
    "Finding the right number of tasters saves time, money, and ensures your sweet sales keep rising.”"
   ]
  }
 ],
 "metadata": {
  "kernelspec": {
   "display_name": ".venv",
   "language": "python",
   "name": "python3"
  },
  "language_info": {
   "codemirror_mode": {
    "name": "ipython",
    "version": 3
   },
   "file_extension": ".py",
   "mimetype": "text/x-python",
   "name": "python",
   "nbconvert_exporter": "python",
   "pygments_lexer": "ipython3",
   "version": "3.11.9"
  }
 },
 "nbformat": 4,
 "nbformat_minor": 5
}
